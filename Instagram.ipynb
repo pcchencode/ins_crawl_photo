{
 "cells": [
  {
   "cell_type": "code",
   "execution_count": 537,
   "metadata": {},
   "outputs": [],
   "source": [
    "#一直往下拉的函數\n",
    "def scroll_down(input_browser, scroll_pause_time=10):\n",
    "    #browser = webdriver.Chrome('./chromedriver')    #開啟chrome browser\n",
    "    #browser.get(url)\n",
    "    #SCROLL_PAUSE_TIME = 2\n",
    "\n",
    "    # Get scroll height\n",
    "    last_height = input_browser.execute_script(\"return document.body.scrollHeight\")\n",
    "\n",
    "    while True:\n",
    "        # Scroll down to bottom\n",
    "        browser.execute_script(\"window.scrollTo(0, document.body.scrollHeight);\")\n",
    "\n",
    "        # Wait to load page\n",
    "        time.sleep(SCROLL_PAUSE_TIME)\n",
    "\n",
    "        # Calculate new scroll height and compare with last scroll height\n",
    "        new_height = input_browser.execute_script(\"return document.body.scrollHeight\")\n",
    "        if new_height == last_height:\n",
    "            break\n",
    "        last_height = new_height"
   ]
  },
  {
   "cell_type": "code",
   "execution_count": 538,
   "metadata": {},
   "outputs": [],
   "source": [
    "scroll_down(input_browser=browser, scroll_pause_time=10)"
   ]
  },
  {
   "cell_type": "code",
   "execution_count": 327,
   "metadata": {},
   "outputs": [],
   "source": [
    "import random"
   ]
  },
  {
   "cell_type": "code",
   "execution_count": 2,
   "metadata": {},
   "outputs": [
    {
     "ename": "WebDriverException",
     "evalue": "Message: 'chromedriver' executable may have wrong permissions. Please see https://sites.google.com/a/chromium.org/chromedriver/home\n",
     "output_type": "error",
     "traceback": [
      "\u001b[0;31m---------------------------------------------------------------------------\u001b[0m",
      "\u001b[0;31mPermissionError\u001b[0m                           Traceback (most recent call last)",
      "\u001b[0;32m~/opt/anaconda3/lib/python3.7/site-packages/selenium/webdriver/common/service.py\u001b[0m in \u001b[0;36mstart\u001b[0;34m(self)\u001b[0m\n\u001b[1;32m     75\u001b[0m                                             \u001b[0mstderr\u001b[0m\u001b[0;34m=\u001b[0m\u001b[0mself\u001b[0m\u001b[0;34m.\u001b[0m\u001b[0mlog_file\u001b[0m\u001b[0;34m,\u001b[0m\u001b[0;34m\u001b[0m\u001b[0;34m\u001b[0m\u001b[0m\n\u001b[0;32m---> 76\u001b[0;31m                                             stdin=PIPE)\n\u001b[0m\u001b[1;32m     77\u001b[0m         \u001b[0;32mexcept\u001b[0m \u001b[0mTypeError\u001b[0m\u001b[0;34m:\u001b[0m\u001b[0;34m\u001b[0m\u001b[0;34m\u001b[0m\u001b[0m\n",
      "\u001b[0;32m~/opt/anaconda3/lib/python3.7/subprocess.py\u001b[0m in \u001b[0;36m__init__\u001b[0;34m(self, args, bufsize, executable, stdin, stdout, stderr, preexec_fn, close_fds, shell, cwd, env, universal_newlines, startupinfo, creationflags, restore_signals, start_new_session, pass_fds, encoding, errors, text)\u001b[0m\n\u001b[1;32m    774\u001b[0m                                 \u001b[0merrread\u001b[0m\u001b[0;34m,\u001b[0m \u001b[0merrwrite\u001b[0m\u001b[0;34m,\u001b[0m\u001b[0;34m\u001b[0m\u001b[0;34m\u001b[0m\u001b[0m\n\u001b[0;32m--> 775\u001b[0;31m                                 restore_signals, start_new_session)\n\u001b[0m\u001b[1;32m    776\u001b[0m         \u001b[0;32mexcept\u001b[0m\u001b[0;34m:\u001b[0m\u001b[0;34m\u001b[0m\u001b[0;34m\u001b[0m\u001b[0m\n",
      "\u001b[0;32m~/opt/anaconda3/lib/python3.7/subprocess.py\u001b[0m in \u001b[0;36m_execute_child\u001b[0;34m(self, args, executable, preexec_fn, close_fds, pass_fds, cwd, env, startupinfo, creationflags, shell, p2cread, p2cwrite, c2pread, c2pwrite, errread, errwrite, restore_signals, start_new_session)\u001b[0m\n\u001b[1;32m   1521\u001b[0m                             \u001b[0merr_msg\u001b[0m \u001b[0;34m+=\u001b[0m \u001b[0;34m': '\u001b[0m \u001b[0;34m+\u001b[0m \u001b[0mrepr\u001b[0m\u001b[0;34m(\u001b[0m\u001b[0merr_filename\u001b[0m\u001b[0;34m)\u001b[0m\u001b[0;34m\u001b[0m\u001b[0;34m\u001b[0m\u001b[0m\n\u001b[0;32m-> 1522\u001b[0;31m                     \u001b[0;32mraise\u001b[0m \u001b[0mchild_exception_type\u001b[0m\u001b[0;34m(\u001b[0m\u001b[0merrno_num\u001b[0m\u001b[0;34m,\u001b[0m \u001b[0merr_msg\u001b[0m\u001b[0;34m,\u001b[0m \u001b[0merr_filename\u001b[0m\u001b[0;34m)\u001b[0m\u001b[0;34m\u001b[0m\u001b[0;34m\u001b[0m\u001b[0m\n\u001b[0m\u001b[1;32m   1523\u001b[0m                 \u001b[0;32mraise\u001b[0m \u001b[0mchild_exception_type\u001b[0m\u001b[0;34m(\u001b[0m\u001b[0merr_msg\u001b[0m\u001b[0;34m)\u001b[0m\u001b[0;34m\u001b[0m\u001b[0;34m\u001b[0m\u001b[0m\n",
      "\u001b[0;31mPermissionError\u001b[0m: [Errno 13] Permission denied: './chromedriver'",
      "\nDuring handling of the above exception, another exception occurred:\n",
      "\u001b[0;31mWebDriverException\u001b[0m                        Traceback (most recent call last)",
      "\u001b[0;32m<ipython-input-2-0766ec7ce39f>\u001b[0m in \u001b[0;36m<module>\u001b[0;34m\u001b[0m\n\u001b[0;32m----> 1\u001b[0;31m \u001b[0mwebdriver\u001b[0m\u001b[0;34m.\u001b[0m\u001b[0mChrome\u001b[0m\u001b[0;34m(\u001b[0m\u001b[0;34m'./chromedriver'\u001b[0m\u001b[0;34m)\u001b[0m\u001b[0;34m\u001b[0m\u001b[0;34m\u001b[0m\u001b[0m\n\u001b[0m",
      "\u001b[0;32m~/opt/anaconda3/lib/python3.7/site-packages/selenium/webdriver/chrome/webdriver.py\u001b[0m in \u001b[0;36m__init__\u001b[0;34m(self, executable_path, port, options, service_args, desired_capabilities, service_log_path, chrome_options, keep_alive)\u001b[0m\n\u001b[1;32m     71\u001b[0m             \u001b[0mservice_args\u001b[0m\u001b[0;34m=\u001b[0m\u001b[0mservice_args\u001b[0m\u001b[0;34m,\u001b[0m\u001b[0;34m\u001b[0m\u001b[0;34m\u001b[0m\u001b[0m\n\u001b[1;32m     72\u001b[0m             log_path=service_log_path)\n\u001b[0;32m---> 73\u001b[0;31m         \u001b[0mself\u001b[0m\u001b[0;34m.\u001b[0m\u001b[0mservice\u001b[0m\u001b[0;34m.\u001b[0m\u001b[0mstart\u001b[0m\u001b[0;34m(\u001b[0m\u001b[0;34m)\u001b[0m\u001b[0;34m\u001b[0m\u001b[0;34m\u001b[0m\u001b[0m\n\u001b[0m\u001b[1;32m     74\u001b[0m \u001b[0;34m\u001b[0m\u001b[0m\n\u001b[1;32m     75\u001b[0m         \u001b[0;32mtry\u001b[0m\u001b[0;34m:\u001b[0m\u001b[0;34m\u001b[0m\u001b[0;34m\u001b[0m\u001b[0m\n",
      "\u001b[0;32m~/opt/anaconda3/lib/python3.7/site-packages/selenium/webdriver/common/service.py\u001b[0m in \u001b[0;36mstart\u001b[0;34m(self)\u001b[0m\n\u001b[1;32m     86\u001b[0m                 raise WebDriverException(\n\u001b[1;32m     87\u001b[0m                     \"'%s' executable may have wrong permissions. %s\" % (\n\u001b[0;32m---> 88\u001b[0;31m                         os.path.basename(self.path), self.start_error_message)\n\u001b[0m\u001b[1;32m     89\u001b[0m                 )\n\u001b[1;32m     90\u001b[0m             \u001b[0;32melse\u001b[0m\u001b[0;34m:\u001b[0m\u001b[0;34m\u001b[0m\u001b[0;34m\u001b[0m\u001b[0m\n",
      "\u001b[0;31mWebDriverException\u001b[0m: Message: 'chromedriver' executable may have wrong permissions. Please see https://sites.google.com/a/chromium.org/chromedriver/home\n"
     ]
    }
   ],
   "source": [
    "webdriver.Chrome('./chromedriver')"
   ]
  },
  {
   "cell_type": "code",
   "execution_count": null,
   "metadata": {},
   "outputs": [],
   "source": []
  },
  {
   "cell_type": "code",
   "execution_count": 3,
   "metadata": {},
   "outputs": [
    {
     "ename": "WebDriverException",
     "evalue": "Message: chrome not reachable\n  (Session info: chrome=79.0.3945.130)\n",
     "output_type": "error",
     "traceback": [
      "\u001b[0;31m---------------------------------------------------------------------------\u001b[0m",
      "\u001b[0;31mWebDriverException\u001b[0m                        Traceback (most recent call last)",
      "\u001b[0;32m<ipython-input-3-8024684aaae6>\u001b[0m in \u001b[0;36m<module>\u001b[0;34m\u001b[0m\n\u001b[1;32m     13\u001b[0m \u001b[0mtime\u001b[0m\u001b[0;34m.\u001b[0m\u001b[0msleep\u001b[0m\u001b[0;34m(\u001b[0m\u001b[0;36m2\u001b[0m\u001b[0;34m)\u001b[0m \u001b[0;31m#網頁反應沒那麼快，要等一下\u001b[0m\u001b[0;34m\u001b[0m\u001b[0;34m\u001b[0m\u001b[0m\n\u001b[1;32m     14\u001b[0m \u001b[0;34m\u001b[0m\u001b[0m\n\u001b[0;32m---> 15\u001b[0;31m \u001b[0maccount\u001b[0m \u001b[0;34m=\u001b[0m \u001b[0mbrowser\u001b[0m\u001b[0;34m.\u001b[0m\u001b[0mfind_elements_by_xpath\u001b[0m\u001b[0;34m(\u001b[0m\u001b[0;34m\"//input[@aria-label='電話號碼、用戶名稱或電子郵件']\"\u001b[0m\u001b[0;34m)\u001b[0m\u001b[0;34m\u001b[0m\u001b[0;34m\u001b[0m\u001b[0m\n\u001b[0m\u001b[1;32m     16\u001b[0m \u001b[0maccount\u001b[0m\u001b[0;34m[\u001b[0m\u001b[0;36m0\u001b[0m\u001b[0;34m]\u001b[0m\u001b[0;34m.\u001b[0m\u001b[0msend_keys\u001b[0m\u001b[0;34m(\u001b[0m\u001b[0;34m'po_chu_chen'\u001b[0m\u001b[0;34m)\u001b[0m \u001b[0;31m#account只為長度1的list，很奇怪。輸入帳號名稱\u001b[0m\u001b[0;34m\u001b[0m\u001b[0;34m\u001b[0m\u001b[0m\n\u001b[1;32m     17\u001b[0m \u001b[0mtime\u001b[0m\u001b[0;34m.\u001b[0m\u001b[0msleep\u001b[0m\u001b[0;34m(\u001b[0m\u001b[0;36m2\u001b[0m\u001b[0;34m)\u001b[0m\u001b[0;34m\u001b[0m\u001b[0;34m\u001b[0m\u001b[0m\n",
      "\u001b[0;32m~/opt/anaconda3/lib/python3.7/site-packages/selenium/webdriver/remote/webdriver.py\u001b[0m in \u001b[0;36mfind_elements_by_xpath\u001b[0;34m(self, xpath)\u001b[0m\n\u001b[1;32m    408\u001b[0m             \u001b[0melements\u001b[0m \u001b[0;34m=\u001b[0m \u001b[0mdriver\u001b[0m\u001b[0;34m.\u001b[0m\u001b[0mfind_elements_by_xpath\u001b[0m\u001b[0;34m(\u001b[0m\u001b[0;34m\"//div[contains(@class, 'foo')]\"\u001b[0m\u001b[0;34m)\u001b[0m\u001b[0;34m\u001b[0m\u001b[0;34m\u001b[0m\u001b[0m\n\u001b[1;32m    409\u001b[0m         \"\"\"\n\u001b[0;32m--> 410\u001b[0;31m         \u001b[0;32mreturn\u001b[0m \u001b[0mself\u001b[0m\u001b[0;34m.\u001b[0m\u001b[0mfind_elements\u001b[0m\u001b[0;34m(\u001b[0m\u001b[0mby\u001b[0m\u001b[0;34m=\u001b[0m\u001b[0mBy\u001b[0m\u001b[0;34m.\u001b[0m\u001b[0mXPATH\u001b[0m\u001b[0;34m,\u001b[0m \u001b[0mvalue\u001b[0m\u001b[0;34m=\u001b[0m\u001b[0mxpath\u001b[0m\u001b[0;34m)\u001b[0m\u001b[0;34m\u001b[0m\u001b[0;34m\u001b[0m\u001b[0m\n\u001b[0m\u001b[1;32m    411\u001b[0m \u001b[0;34m\u001b[0m\u001b[0m\n\u001b[1;32m    412\u001b[0m     \u001b[0;32mdef\u001b[0m \u001b[0mfind_element_by_link_text\u001b[0m\u001b[0;34m(\u001b[0m\u001b[0mself\u001b[0m\u001b[0;34m,\u001b[0m \u001b[0mlink_text\u001b[0m\u001b[0;34m)\u001b[0m\u001b[0;34m:\u001b[0m\u001b[0;34m\u001b[0m\u001b[0;34m\u001b[0m\u001b[0m\n",
      "\u001b[0;32m~/opt/anaconda3/lib/python3.7/site-packages/selenium/webdriver/remote/webdriver.py\u001b[0m in \u001b[0;36mfind_elements\u001b[0;34m(self, by, value)\u001b[0m\n\u001b[1;32m   1005\u001b[0m         return self.execute(Command.FIND_ELEMENTS, {\n\u001b[1;32m   1006\u001b[0m             \u001b[0;34m'using'\u001b[0m\u001b[0;34m:\u001b[0m \u001b[0mby\u001b[0m\u001b[0;34m,\u001b[0m\u001b[0;34m\u001b[0m\u001b[0;34m\u001b[0m\u001b[0m\n\u001b[0;32m-> 1007\u001b[0;31m             'value': value})['value'] or []\n\u001b[0m\u001b[1;32m   1008\u001b[0m \u001b[0;34m\u001b[0m\u001b[0m\n\u001b[1;32m   1009\u001b[0m     \u001b[0;34m@\u001b[0m\u001b[0mproperty\u001b[0m\u001b[0;34m\u001b[0m\u001b[0;34m\u001b[0m\u001b[0m\n",
      "\u001b[0;32m~/opt/anaconda3/lib/python3.7/site-packages/selenium/webdriver/remote/webdriver.py\u001b[0m in \u001b[0;36mexecute\u001b[0;34m(self, driver_command, params)\u001b[0m\n\u001b[1;32m    319\u001b[0m         \u001b[0mresponse\u001b[0m \u001b[0;34m=\u001b[0m \u001b[0mself\u001b[0m\u001b[0;34m.\u001b[0m\u001b[0mcommand_executor\u001b[0m\u001b[0;34m.\u001b[0m\u001b[0mexecute\u001b[0m\u001b[0;34m(\u001b[0m\u001b[0mdriver_command\u001b[0m\u001b[0;34m,\u001b[0m \u001b[0mparams\u001b[0m\u001b[0;34m)\u001b[0m\u001b[0;34m\u001b[0m\u001b[0;34m\u001b[0m\u001b[0m\n\u001b[1;32m    320\u001b[0m         \u001b[0;32mif\u001b[0m \u001b[0mresponse\u001b[0m\u001b[0;34m:\u001b[0m\u001b[0;34m\u001b[0m\u001b[0;34m\u001b[0m\u001b[0m\n\u001b[0;32m--> 321\u001b[0;31m             \u001b[0mself\u001b[0m\u001b[0;34m.\u001b[0m\u001b[0merror_handler\u001b[0m\u001b[0;34m.\u001b[0m\u001b[0mcheck_response\u001b[0m\u001b[0;34m(\u001b[0m\u001b[0mresponse\u001b[0m\u001b[0;34m)\u001b[0m\u001b[0;34m\u001b[0m\u001b[0;34m\u001b[0m\u001b[0m\n\u001b[0m\u001b[1;32m    322\u001b[0m             response['value'] = self._unwrap_value(\n\u001b[1;32m    323\u001b[0m                 response.get('value', None))\n",
      "\u001b[0;32m~/opt/anaconda3/lib/python3.7/site-packages/selenium/webdriver/remote/errorhandler.py\u001b[0m in \u001b[0;36mcheck_response\u001b[0;34m(self, response)\u001b[0m\n\u001b[1;32m    240\u001b[0m                 \u001b[0malert_text\u001b[0m \u001b[0;34m=\u001b[0m \u001b[0mvalue\u001b[0m\u001b[0;34m[\u001b[0m\u001b[0;34m'alert'\u001b[0m\u001b[0;34m]\u001b[0m\u001b[0;34m.\u001b[0m\u001b[0mget\u001b[0m\u001b[0;34m(\u001b[0m\u001b[0;34m'text'\u001b[0m\u001b[0;34m)\u001b[0m\u001b[0;34m\u001b[0m\u001b[0;34m\u001b[0m\u001b[0m\n\u001b[1;32m    241\u001b[0m             \u001b[0;32mraise\u001b[0m \u001b[0mexception_class\u001b[0m\u001b[0;34m(\u001b[0m\u001b[0mmessage\u001b[0m\u001b[0;34m,\u001b[0m \u001b[0mscreen\u001b[0m\u001b[0;34m,\u001b[0m \u001b[0mstacktrace\u001b[0m\u001b[0;34m,\u001b[0m \u001b[0malert_text\u001b[0m\u001b[0;34m)\u001b[0m\u001b[0;34m\u001b[0m\u001b[0;34m\u001b[0m\u001b[0m\n\u001b[0;32m--> 242\u001b[0;31m         \u001b[0;32mraise\u001b[0m \u001b[0mexception_class\u001b[0m\u001b[0;34m(\u001b[0m\u001b[0mmessage\u001b[0m\u001b[0;34m,\u001b[0m \u001b[0mscreen\u001b[0m\u001b[0;34m,\u001b[0m \u001b[0mstacktrace\u001b[0m\u001b[0;34m)\u001b[0m\u001b[0;34m\u001b[0m\u001b[0;34m\u001b[0m\u001b[0m\n\u001b[0m\u001b[1;32m    243\u001b[0m \u001b[0;34m\u001b[0m\u001b[0m\n\u001b[1;32m    244\u001b[0m     \u001b[0;32mdef\u001b[0m \u001b[0m_value_or_default\u001b[0m\u001b[0;34m(\u001b[0m\u001b[0mself\u001b[0m\u001b[0;34m,\u001b[0m \u001b[0mobj\u001b[0m\u001b[0;34m,\u001b[0m \u001b[0mkey\u001b[0m\u001b[0;34m,\u001b[0m \u001b[0mdefault\u001b[0m\u001b[0;34m)\u001b[0m\u001b[0;34m:\u001b[0m\u001b[0;34m\u001b[0m\u001b[0;34m\u001b[0m\u001b[0m\n",
      "\u001b[0;31mWebDriverException\u001b[0m: Message: chrome not reachable\n  (Session info: chrome=79.0.3945.130)\n"
     ]
    }
   ],
   "source": [
    "from selenium import webdriver  #從library中引入webdriver\n",
    "#from selenium.webdriver.common.by import By\n",
    "from fake_useragent import UserAgent # !pip install fake-useragent\n",
    "from selenium.webdriver.chrome.options import Options\n",
    "import time\n",
    "\n",
    "browser = webdriver.Chrome('./chromedriver')    #開啟chrome browser\n",
    "browser.get('https://www.instagram.com/amandawaa/')\n",
    "\n",
    "#先進行登入的動作\n",
    "button = browser.find_element_by_xpath(\"//button[@type='button'][text()='登入']\") #尋找登入點擊按鈕\n",
    "button.click()\n",
    "time.sleep(2) #網頁反應沒那麼快，要等一下\n",
    "\n",
    "account = browser.find_elements_by_xpath(\"//input[@aria-label='電話號碼、用戶名稱或電子郵件']\")\n",
    "account[0].send_keys('po_chu_chen') #account只為長度1的list，很奇怪。輸入帳號名稱\n",
    "time.sleep(2)\n",
    "\n",
    "password = browser.find_elements_by_xpath(\"//input[@aria-label='密碼']\")\n",
    "password[0].send_keys('a1b2c3d4') #account只為長度1的list，很奇怪。輸入帳號名稱\n",
    "time.sleep(2)\n",
    "\n",
    "confirm_button = browser.find_element_by_xpath(\"//button[@type='submit']\") #尋找登入點擊按鈕\n",
    "confirm_button.click() #點擊登入按鈕\n",
    "time.sleep(5)"
   ]
  },
  {
   "cell_type": "code",
   "execution_count": 389,
   "metadata": {},
   "outputs": [],
   "source": [
    "button = browser.find_element_by_xpath(\"//button[@type='button'][text()='登入']\") #尋找登入點擊按鈕"
   ]
  },
  {
   "cell_type": "code",
   "execution_count": 390,
   "metadata": {},
   "outputs": [],
   "source": [
    "button.click() #按下登入點擊鈕"
   ]
  },
  {
   "cell_type": "code",
   "execution_count": 395,
   "metadata": {},
   "outputs": [],
   "source": [
    "account = browser.find_elements_by_xpath(\"//input[@aria-label='電話號碼、用戶名稱或電子郵件']\")"
   ]
  },
  {
   "cell_type": "code",
   "execution_count": 396,
   "metadata": {},
   "outputs": [],
   "source": [
    "account[0].send_keys('po_chu_chen') #account只為長度1的list，很奇怪。輸入帳號名稱"
   ]
  },
  {
   "cell_type": "code",
   "execution_count": 397,
   "metadata": {},
   "outputs": [],
   "source": [
    "password = browser.find_elements_by_xpath(\"//input[@aria-label='密碼']\")"
   ]
  },
  {
   "cell_type": "code",
   "execution_count": 401,
   "metadata": {},
   "outputs": [],
   "source": [
    "password[0].send_keys('a1b2c3d4') #account只為長度1的list，很奇怪。輸入帳號名稱"
   ]
  },
  {
   "cell_type": "code",
   "execution_count": 399,
   "metadata": {},
   "outputs": [],
   "source": [
    "confirm_button = browser.find_element_by_xpath(\"//button[@type='submit']\") #尋找登入點擊按鈕"
   ]
  },
  {
   "cell_type": "code",
   "execution_count": 400,
   "metadata": {},
   "outputs": [],
   "source": [
    "confirm_button.click() #點擊登入按鈕"
   ]
  },
  {
   "cell_type": "code",
   "execution_count": null,
   "metadata": {},
   "outputs": [],
   "source": [
    "time.sleep(10)"
   ]
  },
  {
   "cell_type": "code",
   "execution_count": 17,
   "metadata": {},
   "outputs": [],
   "source": [
    "num_post = browser.find_elements_by_xpath(\"//span[@class='-nal3 ']\") #定位貼文置的位置"
   ]
  },
  {
   "cell_type": "code",
   "execution_count": 18,
   "metadata": {},
   "outputs": [
    {
     "data": {
      "text/plain": [
       "'39 貼文'"
      ]
     },
     "execution_count": 18,
     "metadata": {},
     "output_type": "execute_result"
    }
   ],
   "source": [
    "num_post[0].text #顯示貼文數"
   ]
  },
  {
   "cell_type": "code",
   "execution_count": 21,
   "metadata": {},
   "outputs": [],
   "source": [
    "post = browser.find_elements_by_xpath('//a[contains(@href, \"/p/\")]')"
   ]
  },
  {
   "cell_type": "code",
   "execution_count": 25,
   "metadata": {},
   "outputs": [],
   "source": [
    "#post.get_attribute('href')"
   ]
  },
  {
   "cell_type": "code",
   "execution_count": 26,
   "metadata": {},
   "outputs": [
    {
     "data": {
      "text/plain": [
       "'https://www.instagram.com/p/B7ltOyToqwH/'"
      ]
     },
     "execution_count": 26,
     "metadata": {},
     "output_type": "execute_result"
    }
   ],
   "source": [
    "post[0].get_attribute('href')"
   ]
  },
  {
   "cell_type": "code",
   "execution_count": 523,
   "metadata": {},
   "outputs": [],
   "source": [
    "post_hrefs=[]\n",
    "height = browser.execute_script(\"return document.body.scrollHeight\") #一開始頁面的高度\n",
    "match = False\n",
    "while match==False:\n",
    "    lastHeight = height\n",
    "\n",
    "    # step 1\n",
    "    elements = browser.find_elements_by_xpath('//a[contains(@href, \"/p/\")]')\n",
    "\n",
    "    # step 2\n",
    "    for element in elements:\n",
    "        if element.get_attribute('href') not in post_hrefs:\n",
    "            post_hrefs.append(element.get_attribute('href'))\n",
    "\n",
    "    # step 3\n",
    "    #browser.execute_script(\"return arguments[0].scrollIntoView();\", elements[-1])\n",
    "    browser.execute_script(\"window.scrollTo(0, document.body.scrollHeight);\")\n",
    "    time.sleep(2)\n",
    "\n",
    "    # step 4\n",
    "    height = browser.execute_script(\"return document.body.scrollHeight\")\n",
    "    if lastHeight==height:\n",
    "        match = True"
   ]
  },
  {
   "cell_type": "code",
   "execution_count": 58,
   "metadata": {},
   "outputs": [],
   "source": [
    "# 先抓第一個貼文\n",
    "post = browser.find_element_by_xpath('//a[@href=\"/p/B7es2-do_J2/\"]')"
   ]
  },
  {
   "cell_type": "code",
   "execution_count": 59,
   "metadata": {},
   "outputs": [],
   "source": [
    "post.click()"
   ]
  },
  {
   "cell_type": "code",
   "execution_count": 60,
   "metadata": {},
   "outputs": [],
   "source": [
    "like_list_button = browser.find_element_by_xpath('//button[@class=\"sqdOP yWX7d     _8A5w5    \"]') #按讚的癡漢"
   ]
  },
  {
   "cell_type": "code",
   "execution_count": 61,
   "metadata": {},
   "outputs": [],
   "source": [
    "like_list_button.click() #點擊按讚的癡漢"
   ]
  },
  {
   "cell_type": "code",
   "execution_count": 62,
   "metadata": {},
   "outputs": [],
   "source": [
    "like_list = browser.find_elements_by_xpath('//div[@class=\"                  Igw0E   rBNOH        eGOV_     ybXk5    _4EzTm                                                                                                              \"]')"
   ]
  },
  {
   "cell_type": "code",
   "execution_count": 63,
   "metadata": {},
   "outputs": [],
   "source": [
    "#like_list[3].text"
   ]
  },
  {
   "cell_type": "code",
   "execution_count": 64,
   "metadata": {},
   "outputs": [
    {
     "data": {
      "text/plain": [
       "12"
      ]
     },
     "execution_count": 64,
     "metadata": {},
     "output_type": "execute_result"
    }
   ],
   "source": [
    "len(like_list)"
   ]
  },
  {
   "cell_type": "code",
   "execution_count": 65,
   "metadata": {},
   "outputs": [
    {
     "data": {
      "text/plain": [
       "'france.enchante.damina'"
      ]
     },
     "execution_count": 65,
     "metadata": {},
     "output_type": "execute_result"
    }
   ],
   "source": [
    "like_list[11].text"
   ]
  },
  {
   "cell_type": "code",
   "execution_count": 988,
   "metadata": {},
   "outputs": [],
   "source": [
    "#大神寫的code，scroll down likers並把所有名單append進入users\n",
    "users=[]\n",
    "height = browser.find_element_by_xpath(\"//html/body/div[4]/div/div[2]/div/div\").value_of_css_property(\"padding-top\")\n",
    "match = False\n",
    "while match==False:\n",
    "    lastHeight = height\n",
    "\n",
    "    # step 1\n",
    "    elements = browser.find_elements_by_xpath(\"//*[@id]/div/a\")\n",
    "\n",
    "    # step 2\n",
    "    for element in elements:\n",
    "        if element.get_attribute('title') not in users:\n",
    "            users.append(element.get_attribute('title'))\n",
    "\n",
    "    # step 3\n",
    "    browser.execute_script(\"return arguments[0].scrollIntoView();\", elements[-1])\n",
    "    time.sleep(10)\n",
    "\n",
    "    # step 4\n",
    "    height = browser.find_element_by_xpath(\"//html/body/div[4]/div/div[2]/div/div\").value_of_css_property(\"padding-top\")\n",
    "    if lastHeight==height:\n",
    "        match = True"
   ]
  },
  {
   "cell_type": "code",
   "execution_count": 989,
   "metadata": {
    "scrolled": true
   },
   "outputs": [
    {
     "data": {
      "text/plain": [
       "['po_chu_chen',\n",
       " 'o921107523',\n",
       " 'vickiemm000',\n",
       " 'tommyiao',\n",
       " 'ak223704',\n",
       " 'somewhereintime11',\n",
       " 'andrea53611',\n",
       " 'hsiaochuuuuu',\n",
       " 'linboren',\n",
       " 'omnomtaiwan',\n",
       " 'wen20233',\n",
       " 'owen987633',\n",
       " 'chao_wei11',\n",
       " 'sunchigg',\n",
       " 'amyliaolingchun',\n",
       " 'hsuhsuchen',\n",
       " 'curiousboy12',\n",
       " 'diana900416',\n",
       " 'lee_wei_hsuan_',\n",
       " 'andy09chen',\n",
       " 'ididit916',\n",
       " 'myeliu1214',\n",
       " 'pohsuanlin',\n",
       " 'samlee0712',\n",
       " 'haohsuan_hsu',\n",
       " 'nj.__z',\n",
       " 'amiip',\n",
       " 'jayjay3811',\n",
       " 'hsiangling0319',\n",
       " 'tjsheng',\n",
       " 'deliahuang0306']"
      ]
     },
     "execution_count": 989,
     "metadata": {},
     "output_type": "execute_result"
    }
   ],
   "source": [
    "users"
   ]
  },
  {
   "cell_type": "code",
   "execution_count": 71,
   "metadata": {},
   "outputs": [
    {
     "data": {
      "text/plain": [
       "False"
      ]
     },
     "execution_count": 71,
     "metadata": {},
     "output_type": "execute_result"
    }
   ],
   "source": [
    "result = False\n",
    "for element in users:\n",
    "    if element == 'zxp791228':\n",
    "        result = True\n",
    "result"
   ]
  },
  {
   "cell_type": "markdown",
   "metadata": {},
   "source": [
    "## 紀錄：截至目前做到以下\n",
    "* 將所有 post 的連結抓下來\n",
    "* 將一個 post 中所有 liker 的名單抓下來"
   ]
  },
  {
   "cell_type": "markdown",
   "metadata": {},
   "source": [
    "# 先把所有貼文連結抓取下來\n",
    "* 有可能POST的頁面沒有跑完，selenium就以為跑完了，要想辦法除錯：原始的寫法是依據頁面高度來判斷要不要往下拉，現在改為撈取的文章總數有沒有符合，來判斷頁面要不要往下拉"
   ]
  },
  {
   "cell_type": "code",
   "execution_count": 1,
   "metadata": {},
   "outputs": [],
   "source": [
    "def get_all_posts(ins_id, user_ac, user_pw):\n",
    "    from selenium import webdriver  #從library中引入webdriver\n",
    "    #from selenium.webdriver.common.by import By\n",
    "    import time\n",
    "\n",
    "    browser = webdriver.Chrome('./chromedriver') #開啟chrome browser\n",
    "    browser.get('https://www.instagram.com/'+str(ins_id)+'/') #開啟想要搜尋的帳號ＩＧ\n",
    "\n",
    "    #先進行登入的動作\n",
    "    button = browser.find_element_by_xpath(\"//button[@type='button'][text()='登入']\") #尋找登入點擊按鈕\n",
    "    button.click()\n",
    "    time.sleep(5) #網頁反應沒那麼快，要等一下\n",
    "\n",
    "    account = browser.find_elements_by_xpath(\"//input[@aria-label='電話號碼、用戶名稱或電子郵件']\")\n",
    "    account[0].send_keys(user_ac) #account只為長度1的list，很奇怪。輸入帳號名稱\n",
    "    time.sleep(5)\n",
    "\n",
    "    password = browser.find_elements_by_xpath(\"//input[@aria-label='密碼']\")\n",
    "    password[0].send_keys(user_pw) #account只為長度1的list，很奇怪。輸入帳號名稱\n",
    "    time.sleep(5)\n",
    "\n",
    "    confirm_button = browser.find_element_by_xpath(\"//button[@type='submit']\") #尋找登入點擊按鈕\n",
    "    confirm_button.click() #點擊登入按鈕\n",
    "    time.sleep(5)\n",
    "\n",
    "    num_post = browser.find_elements_by_xpath(\"//span[@class='-nal3 ']\") #定位貼文置的位置\n",
    "    num_post[0].text #顯示貼文數\n",
    "    time.sleep(5)    \n",
    "    \n",
    "    num_post = browser.find_elements_by_xpath(\"//span[@class='-nal3 ']\") #定位貼文置的位置\n",
    "    num_post[0].text #抓取總文章數\n",
    "    time.sleep(5)\n",
    "    \n",
    "    #撈取所有post的超連結\n",
    "    post_hrefs=[]\n",
    "    height = browser.execute_script(\"return document.body.scrollHeight\") #一開始頁面的高度\n",
    "    while str(len(post_hrefs))+' 貼文' != num_post[0].text:\n",
    "        lastHeight = height\n",
    "\n",
    "        # step 1\n",
    "        elements = browser.find_elements_by_xpath('//a[contains(@href, \"/p/\")]')\n",
    "\n",
    "        # step 2\n",
    "        \n",
    "        for element in elements:\n",
    "            if element.get_attribute('href') not in post_hrefs:\n",
    "                post_hrefs.append(element.get_attribute('href'))\n",
    "\n",
    "        # step 3\n",
    "        #browser.execute_script(\"return arguments[0].scrollIntoView();\", elements[-1])\n",
    "        browser.execute_script(\"window.scrollTo(0, document.body.scrollHeight);\")\n",
    "        time.sleep(5)\n",
    "    browser.close()\n",
    "    return post_hrefs    "
   ]
  },
  {
   "cell_type": "code",
   "execution_count": 2,
   "metadata": {},
   "outputs": [],
   "source": [
    "#post_hrefs = get_all_posts(ins_id='myeliu1214')"
   ]
  },
  {
   "cell_type": "code",
   "execution_count": 4,
   "metadata": {},
   "outputs": [],
   "source": [
    "post_hrefs = get_all_posts(ins_id='po_chu_chen', user_ac='chungshisu', user_pw='a1b2c3')"
   ]
  },
  {
   "cell_type": "code",
   "execution_count": 5,
   "metadata": {},
   "outputs": [
    {
     "name": "stdout",
     "output_type": "stream",
     "text": [
      "總貼文數：7\n"
     ]
    }
   ],
   "source": [
    "print('總貼文數：'+str(len(post_hrefs)))"
   ]
  },
  {
   "cell_type": "markdown",
   "metadata": {},
   "source": [
    "## 抓圖片囉"
   ]
  },
  {
   "cell_type": "code",
   "execution_count": 235,
   "metadata": {},
   "outputs": [],
   "source": [
    "from selenium import webdriver  #從library中引入webdriver\n",
    "import time\n",
    "browser = webdriver.Chrome('./chromedriver')\n",
    "browser.get('https://www.instagram.com/po_chu_chen')\n",
    "#先進行登入的動作\n",
    "button = browser.find_element_by_xpath(\"//button[@type='button'][text()='登入']\") #尋找登入點擊按鈕\n",
    "button.click()\n",
    "time.sleep(5) #網頁反應沒那麼快，要等一下\n",
    "\n",
    "account = browser.find_elements_by_xpath(\"//input[@aria-label='電話號碼、用戶名稱或電子郵件']\")\n",
    "account[0].send_keys('chungshisu') #account只為長度1的list，很奇怪。輸入帳號名稱\n",
    "time.sleep(5)\n",
    "\n",
    "password = browser.find_elements_by_xpath(\"//input[@aria-label='密碼']\")\n",
    "password[0].send_keys('a1b2c3') #account只為長度1的list，很奇怪。輸入帳號名稱\n",
    "time.sleep(5)\n",
    "\n",
    "confirm_button = browser.find_element_by_xpath(\"//button[@type='submit']\") #尋找登入點擊按鈕\n",
    "confirm_button.click() #點擊登入按鈕\n",
    "time.sleep(5)"
   ]
  },
  {
   "cell_type": "code",
   "execution_count": 199,
   "metadata": {},
   "outputs": [],
   "source": [
    "browser.get(post_hrefs[0])"
   ]
  },
  {
   "cell_type": "markdown",
   "metadata": {},
   "source": [
    "### 先試著抓只有一張圖片的post，把圖片抓下來"
   ]
  },
  {
   "cell_type": "code",
   "execution_count": 209,
   "metadata": {},
   "outputs": [],
   "source": [
    "def scrap_src(post_url):\n",
    "    browser.get(post_url)\n",
    "    time.sleep(2)\n",
    "    src_list = []\n",
    "    img_pos = browser.find_elements_by_xpath('//div[@class=\"KL4Bh\"]/img')\n",
    "    src = img_pos[0].get_attribute('src')\n",
    "    src_list.append(src)\n",
    "    right_click_button = browser.find_elements_by_xpath('//button[@class=\"  _6CZji\"]')\n",
    "    while len(right_click_button)!=0:\n",
    "        right_click_button[0].click()\n",
    "        time.sleep(2)\n",
    "        img_pos = browser.find_elements_by_xpath('//div[@class=\"KL4Bh\"]/img')\n",
    "        src = img_pos[0].get_attribute('src')\n",
    "        src_list.append(src)\n",
    "        right_click_button = browser.find_elements_by_xpath('//button[@class=\"  _6CZji\"]')\n",
    "    \n",
    "    return src_list\n",
    "\n",
    "    \n",
    "    "
   ]
  },
  {
   "cell_type": "code",
   "execution_count": 226,
   "metadata": {},
   "outputs": [],
   "source": [
    "def download_pic(src_list, save_path='/Users/Mac/Desktop/ins_likers_photo/'):\n",
    "    import urllib\n",
    "    for i in range(len(src_list)):\n",
    "        save_path = save_path+str(time.ctime(time.time()))+'.png'\n",
    "        pic_file = urllib.request.urlopen(src_list[i]).read()\n",
    "        f = open(save_path, 'wb')\n",
    "        f.write(pic_file)\n",
    "        f.close()\n",
    "        \n",
    "    return"
   ]
  },
  {
   "cell_type": "code",
   "execution_count": 237,
   "metadata": {},
   "outputs": [],
   "source": [
    "for ele in post_hrefs:\n",
    "    try:\n",
    "        download_pic(scrap_src(ele))\n",
    "        time.sleep(2)\n",
    "    except:\n",
    "        pass"
   ]
  },
  {
   "cell_type": "markdown",
   "metadata": {},
   "source": [
    "## Scrap_photo_script"
   ]
  },
  {
   "cell_type": "code",
   "execution_count": 238,
   "metadata": {},
   "outputs": [],
   "source": [
    "import pandas as pd\n",
    "pd.set_option('display.max_rows', 250)\n",
    "import random\n",
    "from selenium import webdriver  #從library中引入webdriver\n",
    "#from selenium.webdriver.common.by import By\n",
    "from fake_useragent import UserAgent # !pip install fake-useragent\n",
    "from selenium.webdriver.chrome.options import Options\n",
    "import time\n",
    "import argparse\n",
    "\n",
    "def get_all_posts(ins_id, user_ac, user_pw):\n",
    "    browser = webdriver.Chrome('./chromedriver') #開啟chrome browser\n",
    "    browser.get('https://www.instagram.com/'+str(ins_id)+'/') #開啟想要搜尋的帳號ＩＧ\n",
    "\n",
    "    #先進行登入的動作\n",
    "    button = browser.find_element_by_xpath(\"//button[@type='button'][text()='登入']\") #尋找登入點擊按鈕\n",
    "    button.click()\n",
    "    time.sleep(5) #網頁反應沒那麼快，要等一下\n",
    "\n",
    "    account = browser.find_elements_by_xpath(\"//input[@aria-label='電話號碼、用戶名稱或電子郵件']\")\n",
    "    account[0].send_keys(user_ac) #account只為長度1的list，很奇怪。輸入帳號名稱\n",
    "    time.sleep(5)\n",
    "\n",
    "    password = browser.find_elements_by_xpath(\"//input[@aria-label='密碼']\")\n",
    "    password[0].send_keys(user_pw) #account只為長度1的list，很奇怪。輸入帳號名稱\n",
    "    time.sleep(5)\n",
    "\n",
    "    confirm_button = browser.find_element_by_xpath(\"//button[@type='submit']\") #尋找登入點擊按鈕\n",
    "    confirm_button.click() #點擊登入按鈕\n",
    "    time.sleep(5)\n",
    "\n",
    "    num_post = browser.find_elements_by_xpath(\"//span[@class='-nal3 ']\") #定位貼文置的位置\n",
    "    num_post[0].text #顯示貼文數\n",
    "    time.sleep(5)    \n",
    "    \n",
    "    num_post = browser.find_elements_by_xpath(\"//span[@class='-nal3 ']\") #定位貼文置的位置\n",
    "    num_post[0].text #抓取總文章數\n",
    "    time.sleep(5)\n",
    "    \n",
    "    #撈取所有post的超連結\n",
    "    post_hrefs=[]\n",
    "    height = browser.execute_script(\"return document.body.scrollHeight\") #一開始頁面的高度\n",
    "    while str(len(post_hrefs))+' 貼文' != num_post[0].text:\n",
    "        lastHeight = height\n",
    "\n",
    "        # step 1\n",
    "        elements = browser.find_elements_by_xpath('//a[contains(@href, \"/p/\")]')\n",
    "\n",
    "        # step 2\n",
    "        \n",
    "        for element in elements:\n",
    "            if element.get_attribute('href') not in post_hrefs:\n",
    "                post_hrefs.append(element.get_attribute('href'))\n",
    "\n",
    "        # step 3\n",
    "        #browser.execute_script(\"return arguments[0].scrollIntoView();\", elements[-1])\n",
    "        browser.execute_script(\"window.scrollTo(0, document.body.scrollHeight);\")\n",
    "        time.sleep(5)\n",
    "    browser.close()\n",
    "    return post_hrefs\n",
    "\n",
    "def login_ins_browser(ac, pw):\n",
    "    browser = webdriver.Chrome('.//chromedriver')    #開啟chrome browser\n",
    "    browser.get('https://www.instagram.com/po_chu_chen/')\n",
    "\n",
    "    #先進行登入的動作\n",
    "    button = browser.find_element_by_xpath(\"//button[@type='button'][text()='登入']\") #尋找登入點擊按鈕\n",
    "    button.click()\n",
    "    time.sleep(2) #網頁反應沒那麼快，要等一下\n",
    "\n",
    "    account = browser.find_elements_by_xpath(\"//input[@aria-label='電話號碼、用戶名稱或電子郵件']\")\n",
    "    account[0].send_keys(ac) #account只為長度1的list，很奇怪。輸入帳號名稱\n",
    "    time.sleep(2)\n",
    "\n",
    "    password = browser.find_elements_by_xpath(\"//input[@aria-label='密碼']\")\n",
    "    password[0].send_keys(pw) #account只為長度1的list，很奇怪。輸入帳號名稱\n",
    "    time.sleep(2)\n",
    "\n",
    "    confirm_button = browser.find_element_by_xpath(\"//button[@type='submit']\") #尋找登入點擊按鈕\n",
    "    confirm_button.click() #點擊登入按鈕\n",
    "    time.sleep(5)\n",
    "    return browser"
   ]
  },
  {
   "cell_type": "code",
   "execution_count": 239,
   "metadata": {},
   "outputs": [],
   "source": [
    "def scrap_src(post_url):\n",
    "    browser.get(post_url)\n",
    "    time.sleep(2)\n",
    "    src_list = []\n",
    "    img_pos = browser.find_elements_by_xpath('//div[@class=\"KL4Bh\"]/img')\n",
    "    src = img_pos[0].get_attribute('src')\n",
    "    src_list.append(src)\n",
    "    right_click_button = browser.find_elements_by_xpath('//button[@class=\"  _6CZji\"]')\n",
    "    while len(right_click_button)!=0:\n",
    "        right_click_button[0].click()\n",
    "        time.sleep(2)\n",
    "        img_pos = browser.find_elements_by_xpath('//div[@class=\"KL4Bh\"]/img')\n",
    "        src = img_pos[0].get_attribute('src')\n",
    "        src_list.append(src)\n",
    "        right_click_button = browser.find_elements_by_xpath('//button[@class=\"  _6CZji\"]')\n",
    "    \n",
    "    return src_list"
   ]
  },
  {
   "cell_type": "code",
   "execution_count": 254,
   "metadata": {},
   "outputs": [],
   "source": [
    "def download_pic(src_list, save_path='/Users/Mac/Desktop/ins_likers_photo/'):\n",
    "    import urllib\n",
    "    for i in range(len(src_list)):\n",
    "        save_path_img = save_path+str(time.ctime(time.time()))+'.png'\n",
    "        pic_file = urllib.request.urlopen(src_list[i]).read()\n",
    "        f = open(save_path_img, 'wb')\n",
    "        f.write(pic_file)\n",
    "        f.close()\n",
    "        time.sleep(1)\n",
    "        \n",
    "    return"
   ]
  },
  {
   "cell_type": "code",
   "execution_count": 243,
   "metadata": {},
   "outputs": [],
   "source": [
    "post_hrefs = get_all_posts(ins_id='otherhalfofthebestequation', user_ac='chungshisu', user_pw='a1b2c3')"
   ]
  },
  {
   "cell_type": "code",
   "execution_count": 259,
   "metadata": {},
   "outputs": [],
   "source": [
    "browser = login_ins_browser(ac='chungshisu', pw='a1b2c3')\n",
    "browser.get(post_hrefs[0])\n",
    "for i in range(5):\n",
    "    try:\n",
    "        download_pic(scrap_src(post_hrefs[i]))\n",
    "        time.sleep(2)\n",
    "    except IndexError:\n",
    "        pass\n",
    "#download_pic(scrap_src(post_hrefs[3]))"
   ]
  },
  {
   "cell_type": "code",
   "execution_count": null,
   "metadata": {},
   "outputs": [],
   "source": [
    "def main(target_id, user_ac, user_pw, save_path='/Users/Mac/Desktop/ins_likers_photo/'):\n",
    "    post_hrefs = get_all_posts(target_id, user_ac, user_pw)\n",
    "    browser = login_ins_browser(ac=user_ac, pw=user_pw)\n",
    "    browser.get(post_hrefs[0])\n",
    "    for i in range(5):\n",
    "        try:\n",
    "            download_pic(scrap_src(post_hrefs[i]), save_path=save_path)\n",
    "            time.sleep(2)\n",
    "        except IndexError:\n",
    "            pass\n",
    "        \n",
    "    return"
   ]
  },
  {
   "cell_type": "code",
   "execution_count": null,
   "metadata": {},
   "outputs": [],
   "source": []
  },
  {
   "cell_type": "code",
   "execution_count": null,
   "metadata": {},
   "outputs": [],
   "source": []
  },
  {
   "cell_type": "code",
   "execution_count": null,
   "metadata": {},
   "outputs": [],
   "source": []
  },
  {
   "cell_type": "code",
   "execution_count": null,
   "metadata": {},
   "outputs": [],
   "source": []
  },
  {
   "cell_type": "code",
   "execution_count": null,
   "metadata": {},
   "outputs": [],
   "source": []
  },
  {
   "cell_type": "code",
   "execution_count": null,
   "metadata": {},
   "outputs": [],
   "source": []
  },
  {
   "cell_type": "code",
   "execution_count": null,
   "metadata": {},
   "outputs": [],
   "source": []
  },
  {
   "cell_type": "code",
   "execution_count": null,
   "metadata": {},
   "outputs": [],
   "source": []
  },
  {
   "cell_type": "code",
   "execution_count": null,
   "metadata": {},
   "outputs": [],
   "source": []
  },
  {
   "cell_type": "code",
   "execution_count": null,
   "metadata": {},
   "outputs": [],
   "source": []
  },
  {
   "cell_type": "code",
   "execution_count": 202,
   "metadata": {},
   "outputs": [],
   "source": [
    "#找到這個src是關鍵\n",
    "#tmp = browser.find_elements_by_xpath('//*[@id=\"react-root\"]/section/main/div/div/article/div[1]/div/div/div[1]/img')\n",
    "tmp = browser.find_elements_by_xpath('//div[@class=\"KL4Bh\"]/img')"
   ]
  },
  {
   "cell_type": "code",
   "execution_count": 203,
   "metadata": {},
   "outputs": [
    {
     "data": {
      "text/plain": [
       "2"
      ]
     },
     "execution_count": 203,
     "metadata": {},
     "output_type": "execute_result"
    }
   ],
   "source": [
    "len(tmp)"
   ]
  },
  {
   "cell_type": "code",
   "execution_count": 196,
   "metadata": {},
   "outputs": [
    {
     "ename": "IndexError",
     "evalue": "list index out of range",
     "output_type": "error",
     "traceback": [
      "\u001b[0;31m---------------------------------------------------------------------------\u001b[0m",
      "\u001b[0;31mIndexError\u001b[0m                                Traceback (most recent call last)",
      "\u001b[0;32m<ipython-input-196-6467294207d6>\u001b[0m in \u001b[0;36m<module>\u001b[0;34m\u001b[0m\n\u001b[0;32m----> 1\u001b[0;31m \u001b[0msrc\u001b[0m \u001b[0;34m=\u001b[0m \u001b[0mtmp\u001b[0m\u001b[0;34m[\u001b[0m\u001b[0;36m2\u001b[0m\u001b[0;34m]\u001b[0m\u001b[0;34m.\u001b[0m\u001b[0mget_attribute\u001b[0m\u001b[0;34m(\u001b[0m\u001b[0;34m'src'\u001b[0m\u001b[0;34m)\u001b[0m\u001b[0;34m\u001b[0m\u001b[0;34m\u001b[0m\u001b[0m\n\u001b[0m",
      "\u001b[0;31mIndexError\u001b[0m: list index out of range"
     ]
    }
   ],
   "source": [
    "src = tmp[2].get_attribute('src')"
   ]
  },
  {
   "cell_type": "code",
   "execution_count": 197,
   "metadata": {},
   "outputs": [
    {
     "data": {
      "text/plain": [
       "'https://instagram.ftpe8-3.fna.fbcdn.net/v/t51.2885-15/e35/s1080x1080/60196579_430797967754555_8553470601676855421_n.jpg?_nc_ht=instagram.ftpe8-3.fna.fbcdn.net&_nc_cat=111&_nc_ohc=8LYsSRY3TmgAX-SLcV4&oh=953024ebe9525fea08bf9152772541a1&oe=5E80630A'"
      ]
     },
     "execution_count": 197,
     "metadata": {},
     "output_type": "execute_result"
    }
   ],
   "source": [
    "src"
   ]
  },
  {
   "cell_type": "code",
   "execution_count": 168,
   "metadata": {},
   "outputs": [],
   "source": [
    "save_path = '/Users/Mac/Desktop/ins_likers_photo/this.png'"
   ]
  },
  {
   "cell_type": "code",
   "execution_count": 169,
   "metadata": {},
   "outputs": [],
   "source": [
    "import urllib\n",
    "pic_file = urllib.request.urlopen(src).read()"
   ]
  },
  {
   "cell_type": "code",
   "execution_count": 170,
   "metadata": {},
   "outputs": [],
   "source": [
    "f = open(save_path, 'wb')"
   ]
  },
  {
   "cell_type": "code",
   "execution_count": 171,
   "metadata": {},
   "outputs": [
    {
     "data": {
      "text/plain": [
       "265378"
      ]
     },
     "execution_count": 171,
     "metadata": {},
     "output_type": "execute_result"
    }
   ],
   "source": [
    "f.write(pic_file)"
   ]
  },
  {
   "cell_type": "code",
   "execution_count": 172,
   "metadata": {},
   "outputs": [],
   "source": [
    "f.close()"
   ]
  },
  {
   "cell_type": "markdown",
   "metadata": {},
   "source": [
    "### 多張圖片的解決方案\n",
    "* 要尋找點擊右鍵的扭，直到沒有辦法點為止"
   ]
  },
  {
   "cell_type": "code",
   "execution_count": 191,
   "metadata": {},
   "outputs": [],
   "source": [
    "right_click_button = browser.find_elements_by_xpath('//button[@class=\"  _6CZji\"]')"
   ]
  },
  {
   "cell_type": "code",
   "execution_count": 192,
   "metadata": {},
   "outputs": [
    {
     "data": {
      "text/plain": [
       "[]"
      ]
     },
     "execution_count": 192,
     "metadata": {},
     "output_type": "execute_result"
    }
   ],
   "source": [
    "right_click_button"
   ]
  },
  {
   "cell_type": "code",
   "execution_count": 193,
   "metadata": {},
   "outputs": [
    {
     "ename": "IndexError",
     "evalue": "list index out of range",
     "output_type": "error",
     "traceback": [
      "\u001b[0;31m---------------------------------------------------------------------------\u001b[0m",
      "\u001b[0;31mIndexError\u001b[0m                                Traceback (most recent call last)",
      "\u001b[0;32m<ipython-input-193-58e1dde2e6ca>\u001b[0m in \u001b[0;36m<module>\u001b[0;34m\u001b[0m\n\u001b[0;32m----> 1\u001b[0;31m \u001b[0mright_click_button\u001b[0m\u001b[0;34m[\u001b[0m\u001b[0;36m0\u001b[0m\u001b[0;34m]\u001b[0m\u001b[0;34m.\u001b[0m\u001b[0mclick\u001b[0m\u001b[0;34m(\u001b[0m\u001b[0;34m)\u001b[0m\u001b[0;34m\u001b[0m\u001b[0;34m\u001b[0m\u001b[0m\n\u001b[0m\u001b[1;32m      2\u001b[0m \u001b[0;31m#點到不能點為止就會出現錯誤\u001b[0m\u001b[0;34m\u001b[0m\u001b[0;34m\u001b[0m\u001b[0;34m\u001b[0m\u001b[0m\n",
      "\u001b[0;31mIndexError\u001b[0m: list index out of range"
     ]
    }
   ],
   "source": [
    "right_click_button[0].click()\n",
    "#點到不能點為止,或是沒有該元素,就會出現錯誤"
   ]
  },
  {
   "cell_type": "code",
   "execution_count": null,
   "metadata": {},
   "outputs": [],
   "source": []
  },
  {
   "cell_type": "code",
   "execution_count": null,
   "metadata": {},
   "outputs": [],
   "source": []
  },
  {
   "cell_type": "code",
   "execution_count": null,
   "metadata": {},
   "outputs": [],
   "source": []
  },
  {
   "cell_type": "markdown",
   "metadata": {},
   "source": [
    "# 把每個POST的LIKERS都抓出來\n",
    "* 先抓第一個POST的試試看\n",
    "* 現在會遇到except要重複執行的問題\n",
    "* 先建立一個函數，是抓取第i個post中所有的likers"
   ]
  },
  {
   "cell_type": "code",
   "execution_count": 931,
   "metadata": {},
   "outputs": [],
   "source": [
    "def login_ins_browser(ac, pw):\n",
    "    from selenium import webdriver  #從library中引入webdriver\n",
    "    #from selenium.webdriver.common.by import By\n",
    "    from fake_useragent import UserAgent # !pip install fake-useragent\n",
    "    from selenium.webdriver.chrome.options import Options\n",
    "    import time\n",
    "\n",
    "    browser = webdriver.Chrome('./chromedriver')    #開啟chrome browser\n",
    "    browser.get('https://www.instagram.com/po_chu_chen/')\n",
    "\n",
    "    #先進行登入的動作\n",
    "    button = browser.find_element_by_xpath(\"//button[@type='button'][text()='登入']\") #尋找登入點擊按鈕\n",
    "    button.click()\n",
    "    time.sleep(2) #網頁反應沒那麼快，要等一下\n",
    "\n",
    "    account = browser.find_elements_by_xpath(\"//input[@aria-label='電話號碼、用戶名稱或電子郵件']\")\n",
    "    account[0].send_keys(ac) #account只為長度1的list，很奇怪。輸入帳號名稱\n",
    "    time.sleep(2)\n",
    "\n",
    "    password = browser.find_elements_by_xpath(\"//input[@aria-label='密碼']\")\n",
    "    password[0].send_keys(pw) #account只為長度1的list，很奇怪。輸入帳號名稱\n",
    "    time.sleep(2)\n",
    "\n",
    "    confirm_button = browser.find_element_by_xpath(\"//button[@type='submit']\") #尋找登入點擊按鈕\n",
    "    confirm_button.click() #點擊登入按鈕\n",
    "    time.sleep(5)\n",
    "    return browser"
   ]
  },
  {
   "cell_type": "code",
   "execution_count": 1049,
   "metadata": {},
   "outputs": [],
   "source": [
    "#這個函數前面一定要有setting好的browser\n",
    "def get_likers(post_url):\n",
    "    import pandas as pd\n",
    "    import random\n",
    "    browser.get(post_url)\n",
    "    time.sleep(1)\n",
    "    video = browser.find_elements_by_xpath('//span[@aria-label=\"播放\"]') #影片型post在網站抓不到likers，所以放棄\n",
    "    if len(video)==0: #if the video is empty, we'll capture the likers-list\n",
    "        try:\n",
    "            like_list_button = browser.find_element_by_xpath('//button[@class=\"sqdOP yWX7d     _8A5w5    \"]')\n",
    "            time.sleep(1)\n",
    "        except:\n",
    "            browser.refresh()\n",
    "            time.sleep(10)\n",
    "            return get_likers(post_url)\n",
    "        like_list_button.click() #點擊按讚的癡漢\n",
    "\n",
    "        time.sleep(5)\n",
    "\n",
    "        likers = []       \n",
    "        match = False\n",
    "        while match==False:\n",
    "        #試了老半天還是以頁面高度作為下拉原則，因為IG上面顯示的按讚數跟按讚用戶數數字對不上    \n",
    "            try:\n",
    "                height = browser.find_element_by_xpath(\"//html/body/div[4]/div/div[2]/div/div\").value_of_css_property(\"padding-top\")\n",
    "            except:\n",
    "                browser.refresh()\n",
    "                time.sleep(10)\n",
    "                return get_likers(post_url)\n",
    "            lastHeight = height\n",
    "\n",
    "            # step 1\n",
    "            elements = browser.find_elements_by_xpath(\"//*[@id]/div/a\")\n",
    "\n",
    "            # step 2\n",
    "            for element in elements:\n",
    "                likers.append(element.get_attribute('title'))\n",
    "\n",
    "\n",
    "\n",
    "            # step 3\n",
    "            try:\n",
    "                browser.execute_script(\"return arguments[0].scrollIntoView();\", elements[-1])\n",
    "                time.sleep(random.uniform(1,2))\n",
    "            except:\n",
    "                browser.refresh()\n",
    "                time.sleep(10)\n",
    "                return get_likers(post_url)\n",
    "\n",
    "            # step 4\n",
    "            try:\n",
    "                height = browser.find_element_by_xpath(\"//html/body/div[4]/div/div[2]/div/div\").value_of_css_property(\"padding-top\")\n",
    "            except:\n",
    "                browser.refresh()\n",
    "                time.sleep(10)\n",
    "                return get_likers(post_url)\n",
    "            if lastHeight==height:\n",
    "                match = True\n",
    "\n",
    "        likers = list(set(likers))\n",
    " \n",
    "\n",
    "    else:\n",
    "        likers = []\n",
    "    return likers"
   ]
  },
  {
   "cell_type": "code",
   "execution_count": 1032,
   "metadata": {},
   "outputs": [
    {
     "data": {
      "text/plain": [
       "['owen987633',\n",
       " 'chao_wei11',\n",
       " 'sunchigg',\n",
       " 'hsiangling0319',\n",
       " 'sandychyang',\n",
       " 'haohsuan_hsu',\n",
       " 'samuelcys',\n",
       " 'andrea53611',\n",
       " 'omnomtaiwan',\n",
       " 'jayjay3811']"
      ]
     },
     "execution_count": 1032,
     "metadata": {},
     "output_type": "execute_result"
    }
   ],
   "source": [
    "browser = login_ins_browser(ac='chungshisu', pw='a1b2c3')\n",
    "get_likers(post_hrefs_pochu[1])"
   ]
  },
  {
   "cell_type": "code",
   "execution_count": null,
   "metadata": {},
   "outputs": [],
   "source": []
  },
  {
   "cell_type": "code",
   "execution_count": null,
   "metadata": {},
   "outputs": [],
   "source": []
  },
  {
   "cell_type": "code",
   "execution_count": null,
   "metadata": {},
   "outputs": [],
   "source": []
  },
  {
   "cell_type": "code",
   "execution_count": null,
   "metadata": {},
   "outputs": [],
   "source": []
  },
  {
   "cell_type": "markdown",
   "metadata": {},
   "source": [
    "## Script"
   ]
  },
  {
   "cell_type": "code",
   "execution_count": 1062,
   "metadata": {
    "scrolled": true
   },
   "outputs": [
    {
     "name": "stdout",
     "output_type": "stream",
     "text": [
      "Likers of hsinyueh1020\n",
      "Numbers of Posts: 66\n"
     ]
    },
    {
     "data": {
      "text/plain": [
       "peeson04                        50\n",
       "annie_soq                       36\n",
       "annie881888                     35\n",
       "rieko267                        34\n",
       "ricapfel                        33\n",
       "meggyyiyu                       31\n",
       "louiszdasen                     31\n",
       "ilso7777                        29\n",
       "rconinghy                       27\n",
       "chiaan__lin                     26\n",
       "a____lice17                     24\n",
       "kaktus.tristes_tropiques        23\n",
       "darainny8309                    21\n",
       "w1smile                         19\n",
       "j3571921                        19\n",
       "aa1418_                         17\n",
       "mandy_miao                      16\n",
       "jack14002                       14\n",
       "cwc6485                         14\n",
       "tina650003                      12\n",
       "daphne260                       12\n",
       "ching3481                       10\n",
       "ann56272003                     10\n",
       "ylin1224                        10\n",
       "_veetah_                         9\n",
       "tienchichi                       8\n",
       "doodletim                        7\n",
       "ich529                           7\n",
       "tsubakibobo                      7\n",
       "yangtzuying                      7\n",
       "yuuyuchen                        7\n",
       "micha.wei                        7\n",
       "iamsowhat                        6\n",
       "callistabes                      5\n",
       "yctsaia013                       5\n",
       "dppatron                         5\n",
       "ws870106                         5\n",
       "chia._.hello                     4\n",
       "kerkerboy                        4\n",
       "miapenelopelin                   4\n",
       "felixzhongting                   4\n",
       "chanchii15                       4\n",
       "zinfanzin                        4\n",
       "tiffany50328                     4\n",
       "newzeacold                       3\n",
       "caf09040904                      3\n",
       "heidelbergliebe                  3\n",
       "kerorochiang                     3\n",
       "katechiehmei                     3\n",
       "erinhsiao3                       2\n",
       "ningintaiwan                     2\n",
       "jasonchen5802                    2\n",
       "chiayuehliou                     2\n",
       "ta2chieh                         2\n",
       "shao_yongjen                     2\n",
       "qwerasdfzcv                      2\n",
       "carolteng17                      2\n",
       "kuanchung                        2\n",
       "rita0503y                        2\n",
       "chi_082521                       2\n",
       "06_l                             1\n",
       "sweetiebbbbe                     1\n",
       "ginnystudio                      1\n",
       "kuanlin.ho                       1\n",
       "james_bond_dai                   1\n",
       "leafyoh0818                      1\n",
       "celtics_1991                     1\n",
       "yirulailai                       1\n",
       "lo_feifei                        1\n",
       "azaleachi                        1\n",
       "xavierichen                      1\n",
       "juliehappy2623                   1\n",
       "steven_met.n                     1\n",
       "letitia_wuu                      1\n",
       "maximilianimquadrat              1\n",
       "cchercl                          1\n",
       "mannheimat                       1\n",
       "vickychiu923                     1\n",
       "bing_shiou_lin                   1\n",
       "x.supermario.x                   1\n",
       "adorn_fancy                      1\n",
       "katrinayeeee                     1\n",
       "ameliac02                        1\n",
       "heeheeheeai                      1\n",
       "weiwei830814                     1\n",
       "ew66641                          1\n",
       "yunshanchao                      1\n",
       "ching._____                      1\n",
       "jhangyu                          1\n",
       "miley_hsuan                      1\n",
       "ichbin_carol                     1\n",
       "lavenders07                      1\n",
       "stre1654                         1\n",
       "danny.tsai                       1\n",
       "yimeipan                         1\n",
       "200004.24                        1\n",
       "jui1118                          1\n",
       "lillian3571                      1\n",
       "rheinneckarzentrum_viernheim     1\n",
       "yuwenlin1214                     1\n",
       "irisunii                         1\n",
       "Name: liker_name, dtype: int64"
      ]
     },
     "execution_count": 1062,
     "metadata": {},
     "output_type": "execute_result"
    }
   ],
   "source": [
    "import pandas as pd\n",
    "ins_id = 'hsinyueh1020'\n",
    "user_ac = 'chungshisu'\n",
    "user_pw = 'a1b2c3'\n",
    "post_hrefs = get_all_posts(ins_id,user_ac, user_pw)\n",
    "browser = login_ins_browser(ac='chungshisu', pw='a1b2c3')\n",
    "browser.get(post_hrefs_pochu[0])\n",
    "\n",
    "likers_list = []\n",
    "for link in post_hrefs:\n",
    "    likers_list.append(get_likers(link))\n",
    "\n",
    "\n",
    "all_likers = []\n",
    "for i in range(0,len(likers_list)):\n",
    "    all_likers = all_likers + likers_list[i]\n",
    "\n",
    "data = pd.DataFrame(all_likers, columns=['liker_name'])\n",
    "likers_stat = data['liker_name'].value_counts()\n",
    "\n",
    "print('Likers of '+ins_id)\n",
    "print('Numbers of Posts: '+str(len(post_hrefs)))\n",
    "print(likers_stat)"
   ]
  },
  {
   "cell_type": "code",
   "execution_count": 1066,
   "metadata": {},
   "outputs": [
    {
     "name": "stdout",
     "output_type": "stream",
     "text": [
      "peeson04                        50\n",
      "annie_soq                       36\n",
      "annie881888                     35\n",
      "rieko267                        34\n",
      "ricapfel                        33\n",
      "meggyyiyu                       31\n",
      "louiszdasen                     31\n",
      "ilso7777                        29\n",
      "rconinghy                       27\n",
      "chiaan__lin                     26\n",
      "a____lice17                     24\n",
      "kaktus.tristes_tropiques        23\n",
      "darainny8309                    21\n",
      "w1smile                         19\n",
      "j3571921                        19\n",
      "aa1418_                         17\n",
      "mandy_miao                      16\n",
      "jack14002                       14\n",
      "cwc6485                         14\n",
      "tina650003                      12\n",
      "daphne260                       12\n",
      "ching3481                       10\n",
      "ann56272003                     10\n",
      "ylin1224                        10\n",
      "_veetah_                         9\n",
      "tienchichi                       8\n",
      "doodletim                        7\n",
      "ich529                           7\n",
      "tsubakibobo                      7\n",
      "yangtzuying                      7\n",
      "yuuyuchen                        7\n",
      "micha.wei                        7\n",
      "iamsowhat                        6\n",
      "callistabes                      5\n",
      "yctsaia013                       5\n",
      "dppatron                         5\n",
      "ws870106                         5\n",
      "chia._.hello                     4\n",
      "kerkerboy                        4\n",
      "miapenelopelin                   4\n",
      "felixzhongting                   4\n",
      "chanchii15                       4\n",
      "zinfanzin                        4\n",
      "tiffany50328                     4\n",
      "newzeacold                       3\n",
      "caf09040904                      3\n",
      "heidelbergliebe                  3\n",
      "kerorochiang                     3\n",
      "katechiehmei                     3\n",
      "erinhsiao3                       2\n",
      "ningintaiwan                     2\n",
      "jasonchen5802                    2\n",
      "chiayuehliou                     2\n",
      "ta2chieh                         2\n",
      "shao_yongjen                     2\n",
      "qwerasdfzcv                      2\n",
      "carolteng17                      2\n",
      "kuanchung                        2\n",
      "rita0503y                        2\n",
      "chi_082521                       2\n",
      "06_l                             1\n",
      "sweetiebbbbe                     1\n",
      "ginnystudio                      1\n",
      "kuanlin.ho                       1\n",
      "james_bond_dai                   1\n",
      "leafyoh0818                      1\n",
      "celtics_1991                     1\n",
      "yirulailai                       1\n",
      "lo_feifei                        1\n",
      "azaleachi                        1\n",
      "xavierichen                      1\n",
      "juliehappy2623                   1\n",
      "steven_met.n                     1\n",
      "letitia_wuu                      1\n",
      "maximilianimquadrat              1\n",
      "cchercl                          1\n",
      "mannheimat                       1\n",
      "vickychiu923                     1\n",
      "bing_shiou_lin                   1\n",
      "x.supermario.x                   1\n",
      "adorn_fancy                      1\n",
      "katrinayeeee                     1\n",
      "ameliac02                        1\n",
      "heeheeheeai                      1\n",
      "weiwei830814                     1\n",
      "ew66641                          1\n",
      "yunshanchao                      1\n",
      "ching._____                      1\n",
      "jhangyu                          1\n",
      "miley_hsuan                      1\n",
      "ichbin_carol                     1\n",
      "lavenders07                      1\n",
      "stre1654                         1\n",
      "danny.tsai                       1\n",
      "yimeipan                         1\n",
      "200004.24                        1\n",
      "jui1118                          1\n",
      "lillian3571                      1\n",
      "rheinneckarzentrum_viernheim     1\n",
      "yuwenlin1214                     1\n",
      "irisunii                         1\n",
      "Name: liker_name, dtype: int64\n"
     ]
    }
   ],
   "source": [
    "print(likers_stat)"
   ]
  },
  {
   "cell_type": "code",
   "execution_count": null,
   "metadata": {},
   "outputs": [],
   "source": []
  },
  {
   "cell_type": "code",
   "execution_count": null,
   "metadata": {},
   "outputs": [],
   "source": []
  },
  {
   "cell_type": "code",
   "execution_count": null,
   "metadata": {},
   "outputs": [],
   "source": []
  },
  {
   "cell_type": "code",
   "execution_count": null,
   "metadata": {},
   "outputs": [],
   "source": []
  },
  {
   "cell_type": "code",
   "execution_count": null,
   "metadata": {},
   "outputs": [],
   "source": []
  },
  {
   "cell_type": "code",
   "execution_count": 1011,
   "metadata": {},
   "outputs": [],
   "source": [
    "likers_list = []\n",
    "for i in post_hrefs_pochu:\n",
    "    likers_list.append(get_likers(i))"
   ]
  },
  {
   "cell_type": "code",
   "execution_count": 1012,
   "metadata": {},
   "outputs": [
    {
     "data": {
      "text/plain": [
       "69"
      ]
     },
     "execution_count": 1012,
     "metadata": {},
     "output_type": "execute_result"
    }
   ],
   "source": [
    "all_likers = []\n",
    "for i in range(0,len(likers_list)):\n",
    "    all_likers = all_likers + likers_list[i]\n",
    "\n",
    "len(all_likers)"
   ]
  },
  {
   "cell_type": "code",
   "execution_count": 1013,
   "metadata": {},
   "outputs": [],
   "source": [
    "import pandas as pd\n",
    "pd.set_option('display.max_rows', 500)\n",
    "data = pd.DataFrame(all_likers, columns=['liker_name'])"
   ]
  },
  {
   "cell_type": "code",
   "execution_count": 1014,
   "metadata": {
    "scrolled": true
   },
   "outputs": [
    {
     "name": "stdout",
     "output_type": "stream",
     "text": [
      "Likers of amandawawa\n",
      "Numbers of Posts: 564\n"
     ]
    },
    {
     "data": {
      "text/plain": [
       "andrea53611             4\n",
       "haohsuan_hsu            4\n",
       "chanshan_neal_yang      3\n",
       "chao_wei11              3\n",
       "amyliaolingchun         3\n",
       "nj.__z                  3\n",
       "sunchigg                3\n",
       "supercollege            2\n",
       "danil11924              2\n",
       "deliahuang0306          2\n",
       "ivy_lee331              2\n",
       "diana900416             2\n",
       "omnomtaiwan             2\n",
       "o921107523              2\n",
       "tiffany0331             2\n",
       "hsiangling0319          2\n",
       "kaihelei                1\n",
       "wen20233                1\n",
       "ycchen0321              1\n",
       "tommyiao                1\n",
       "z39123                  1\n",
       "rgmiru                  1\n",
       "wangshihsi              1\n",
       "claychief               1\n",
       "ak223704                1\n",
       "amandawaa               1\n",
       "sandychyang             1\n",
       "samuelcys               1\n",
       "_tzuhsuan_pighsuan_     1\n",
       "linboren                1\n",
       "vito_huangshangchieh    1\n",
       "vickiemm000             1\n",
       "jayjay3811              1\n",
       "hsiaochuuuuu            1\n",
       "somewhereintime11       1\n",
       "pohsuanlin              1\n",
       "zxc27233734             1\n",
       "georgechia0709          1\n",
       "po_chu_chen             1\n",
       "09.29kai                1\n",
       "aibo.tw                 1\n",
       "carollin24              1\n",
       "owen987633              1\n",
       "violintingwei           1\n",
       "Name: liker_name, dtype: int64"
      ]
     },
     "execution_count": 1014,
     "metadata": {},
     "output_type": "execute_result"
    }
   ],
   "source": [
    "print('Likers of amandawawa')\n",
    "print('Numbers of Posts: '+str(len(post_hrefs)))\n",
    "data['liker_name'].value_counts()[0:100]"
   ]
  },
  {
   "cell_type": "code",
   "execution_count": null,
   "metadata": {},
   "outputs": [],
   "source": []
  },
  {
   "cell_type": "code",
   "execution_count": null,
   "metadata": {},
   "outputs": [],
   "source": []
  },
  {
   "cell_type": "code",
   "execution_count": null,
   "metadata": {},
   "outputs": [],
   "source": []
  },
  {
   "cell_type": "code",
   "execution_count": 440,
   "metadata": {},
   "outputs": [
    {
     "ename": "NoSuchElementException",
     "evalue": "Message: no such element: Unable to locate element: {\"method\":\"xpath\",\"selector\":\"//html/body/div[4]/div/div[2]/div/div\"}\n  (Session info: chrome=79.0.3945.130)\n",
     "output_type": "error",
     "traceback": [
      "\u001b[0;31m---------------------------------------------------------------------------\u001b[0m",
      "\u001b[0;31mNoSuchElementException\u001b[0m                    Traceback (most recent call last)",
      "\u001b[0;32m<ipython-input-440-d10a8c34b38c>\u001b[0m in \u001b[0;36m<module>\u001b[0;34m\u001b[0m\n\u001b[1;32m     15\u001b[0m     \u001b[0;31m#大神寫的code，scroll down likers並把所有名單append進入users\u001b[0m\u001b[0;34m\u001b[0m\u001b[0;34m\u001b[0m\u001b[0;34m\u001b[0m\u001b[0m\n\u001b[1;32m     16\u001b[0m     \u001b[0mlikers\u001b[0m\u001b[0;34m=\u001b[0m\u001b[0;34m[\u001b[0m\u001b[0;34m]\u001b[0m\u001b[0;34m\u001b[0m\u001b[0;34m\u001b[0m\u001b[0m\n\u001b[0;32m---> 17\u001b[0;31m     \u001b[0mheight\u001b[0m \u001b[0;34m=\u001b[0m \u001b[0mbrowser\u001b[0m\u001b[0;34m.\u001b[0m\u001b[0mfind_element_by_xpath\u001b[0m\u001b[0;34m(\u001b[0m\u001b[0;34m\"//html/body/div[4]/div/div[2]/div/div\"\u001b[0m\u001b[0;34m)\u001b[0m\u001b[0;34m.\u001b[0m\u001b[0mvalue_of_css_property\u001b[0m\u001b[0;34m(\u001b[0m\u001b[0;34m\"padding-top\"\u001b[0m\u001b[0;34m)\u001b[0m\u001b[0;34m\u001b[0m\u001b[0;34m\u001b[0m\u001b[0m\n\u001b[0m\u001b[1;32m     18\u001b[0m \u001b[0;34m\u001b[0m\u001b[0m\n\u001b[1;32m     19\u001b[0m     \u001b[0mmatch\u001b[0m \u001b[0;34m=\u001b[0m \u001b[0;32mFalse\u001b[0m\u001b[0;34m\u001b[0m\u001b[0;34m\u001b[0m\u001b[0m\n",
      "\u001b[0;32m~/opt/anaconda3/lib/python3.7/site-packages/selenium/webdriver/remote/webdriver.py\u001b[0m in \u001b[0;36mfind_element_by_xpath\u001b[0;34m(self, xpath)\u001b[0m\n\u001b[1;32m    392\u001b[0m             \u001b[0melement\u001b[0m \u001b[0;34m=\u001b[0m \u001b[0mdriver\u001b[0m\u001b[0;34m.\u001b[0m\u001b[0mfind_element_by_xpath\u001b[0m\u001b[0;34m(\u001b[0m\u001b[0;34m'//div/td[1]'\u001b[0m\u001b[0;34m)\u001b[0m\u001b[0;34m\u001b[0m\u001b[0;34m\u001b[0m\u001b[0m\n\u001b[1;32m    393\u001b[0m         \"\"\"\n\u001b[0;32m--> 394\u001b[0;31m         \u001b[0;32mreturn\u001b[0m \u001b[0mself\u001b[0m\u001b[0;34m.\u001b[0m\u001b[0mfind_element\u001b[0m\u001b[0;34m(\u001b[0m\u001b[0mby\u001b[0m\u001b[0;34m=\u001b[0m\u001b[0mBy\u001b[0m\u001b[0;34m.\u001b[0m\u001b[0mXPATH\u001b[0m\u001b[0;34m,\u001b[0m \u001b[0mvalue\u001b[0m\u001b[0;34m=\u001b[0m\u001b[0mxpath\u001b[0m\u001b[0;34m)\u001b[0m\u001b[0;34m\u001b[0m\u001b[0;34m\u001b[0m\u001b[0m\n\u001b[0m\u001b[1;32m    395\u001b[0m \u001b[0;34m\u001b[0m\u001b[0m\n\u001b[1;32m    396\u001b[0m     \u001b[0;32mdef\u001b[0m \u001b[0mfind_elements_by_xpath\u001b[0m\u001b[0;34m(\u001b[0m\u001b[0mself\u001b[0m\u001b[0;34m,\u001b[0m \u001b[0mxpath\u001b[0m\u001b[0;34m)\u001b[0m\u001b[0;34m:\u001b[0m\u001b[0;34m\u001b[0m\u001b[0;34m\u001b[0m\u001b[0m\n",
      "\u001b[0;32m~/opt/anaconda3/lib/python3.7/site-packages/selenium/webdriver/remote/webdriver.py\u001b[0m in \u001b[0;36mfind_element\u001b[0;34m(self, by, value)\u001b[0m\n\u001b[1;32m    976\u001b[0m         return self.execute(Command.FIND_ELEMENT, {\n\u001b[1;32m    977\u001b[0m             \u001b[0;34m'using'\u001b[0m\u001b[0;34m:\u001b[0m \u001b[0mby\u001b[0m\u001b[0;34m,\u001b[0m\u001b[0;34m\u001b[0m\u001b[0;34m\u001b[0m\u001b[0m\n\u001b[0;32m--> 978\u001b[0;31m             'value': value})['value']\n\u001b[0m\u001b[1;32m    979\u001b[0m \u001b[0;34m\u001b[0m\u001b[0m\n\u001b[1;32m    980\u001b[0m     \u001b[0;32mdef\u001b[0m \u001b[0mfind_elements\u001b[0m\u001b[0;34m(\u001b[0m\u001b[0mself\u001b[0m\u001b[0;34m,\u001b[0m \u001b[0mby\u001b[0m\u001b[0;34m=\u001b[0m\u001b[0mBy\u001b[0m\u001b[0;34m.\u001b[0m\u001b[0mID\u001b[0m\u001b[0;34m,\u001b[0m \u001b[0mvalue\u001b[0m\u001b[0;34m=\u001b[0m\u001b[0;32mNone\u001b[0m\u001b[0;34m)\u001b[0m\u001b[0;34m:\u001b[0m\u001b[0;34m\u001b[0m\u001b[0;34m\u001b[0m\u001b[0m\n",
      "\u001b[0;32m~/opt/anaconda3/lib/python3.7/site-packages/selenium/webdriver/remote/webdriver.py\u001b[0m in \u001b[0;36mexecute\u001b[0;34m(self, driver_command, params)\u001b[0m\n\u001b[1;32m    319\u001b[0m         \u001b[0mresponse\u001b[0m \u001b[0;34m=\u001b[0m \u001b[0mself\u001b[0m\u001b[0;34m.\u001b[0m\u001b[0mcommand_executor\u001b[0m\u001b[0;34m.\u001b[0m\u001b[0mexecute\u001b[0m\u001b[0;34m(\u001b[0m\u001b[0mdriver_command\u001b[0m\u001b[0;34m,\u001b[0m \u001b[0mparams\u001b[0m\u001b[0;34m)\u001b[0m\u001b[0;34m\u001b[0m\u001b[0;34m\u001b[0m\u001b[0m\n\u001b[1;32m    320\u001b[0m         \u001b[0;32mif\u001b[0m \u001b[0mresponse\u001b[0m\u001b[0;34m:\u001b[0m\u001b[0;34m\u001b[0m\u001b[0;34m\u001b[0m\u001b[0m\n\u001b[0;32m--> 321\u001b[0;31m             \u001b[0mself\u001b[0m\u001b[0;34m.\u001b[0m\u001b[0merror_handler\u001b[0m\u001b[0;34m.\u001b[0m\u001b[0mcheck_response\u001b[0m\u001b[0;34m(\u001b[0m\u001b[0mresponse\u001b[0m\u001b[0;34m)\u001b[0m\u001b[0;34m\u001b[0m\u001b[0;34m\u001b[0m\u001b[0m\n\u001b[0m\u001b[1;32m    322\u001b[0m             response['value'] = self._unwrap_value(\n\u001b[1;32m    323\u001b[0m                 response.get('value', None))\n",
      "\u001b[0;32m~/opt/anaconda3/lib/python3.7/site-packages/selenium/webdriver/remote/errorhandler.py\u001b[0m in \u001b[0;36mcheck_response\u001b[0;34m(self, response)\u001b[0m\n\u001b[1;32m    240\u001b[0m                 \u001b[0malert_text\u001b[0m \u001b[0;34m=\u001b[0m \u001b[0mvalue\u001b[0m\u001b[0;34m[\u001b[0m\u001b[0;34m'alert'\u001b[0m\u001b[0;34m]\u001b[0m\u001b[0;34m.\u001b[0m\u001b[0mget\u001b[0m\u001b[0;34m(\u001b[0m\u001b[0;34m'text'\u001b[0m\u001b[0;34m)\u001b[0m\u001b[0;34m\u001b[0m\u001b[0;34m\u001b[0m\u001b[0m\n\u001b[1;32m    241\u001b[0m             \u001b[0;32mraise\u001b[0m \u001b[0mexception_class\u001b[0m\u001b[0;34m(\u001b[0m\u001b[0mmessage\u001b[0m\u001b[0;34m,\u001b[0m \u001b[0mscreen\u001b[0m\u001b[0;34m,\u001b[0m \u001b[0mstacktrace\u001b[0m\u001b[0;34m,\u001b[0m \u001b[0malert_text\u001b[0m\u001b[0;34m)\u001b[0m\u001b[0;34m\u001b[0m\u001b[0;34m\u001b[0m\u001b[0m\n\u001b[0;32m--> 242\u001b[0;31m         \u001b[0;32mraise\u001b[0m \u001b[0mexception_class\u001b[0m\u001b[0;34m(\u001b[0m\u001b[0mmessage\u001b[0m\u001b[0;34m,\u001b[0m \u001b[0mscreen\u001b[0m\u001b[0;34m,\u001b[0m \u001b[0mstacktrace\u001b[0m\u001b[0;34m)\u001b[0m\u001b[0;34m\u001b[0m\u001b[0;34m\u001b[0m\u001b[0m\n\u001b[0m\u001b[1;32m    243\u001b[0m \u001b[0;34m\u001b[0m\u001b[0m\n\u001b[1;32m    244\u001b[0m     \u001b[0;32mdef\u001b[0m \u001b[0m_value_or_default\u001b[0m\u001b[0;34m(\u001b[0m\u001b[0mself\u001b[0m\u001b[0;34m,\u001b[0m \u001b[0mobj\u001b[0m\u001b[0;34m,\u001b[0m \u001b[0mkey\u001b[0m\u001b[0;34m,\u001b[0m \u001b[0mdefault\u001b[0m\u001b[0;34m)\u001b[0m\u001b[0;34m:\u001b[0m\u001b[0;34m\u001b[0m\u001b[0;34m\u001b[0m\u001b[0m\n",
      "\u001b[0;31mNoSuchElementException\u001b[0m: Message: no such element: Unable to locate element: {\"method\":\"xpath\",\"selector\":\"//html/body/div[4]/div/div[2]/div/div\"}\n  (Session info: chrome=79.0.3945.130)\n"
     ]
    }
   ],
   "source": [
    "likers_list = []\n",
    "for i in range(0,len(post_hrefs)):\n",
    "    \n",
    "    browser.get(post_hrefs[i])\n",
    "    #browser.get('https://www.instagram.com/p/B6x2czvHbadEVtzs2nA54ekTDZfxt2C1mo9FGE0/')\n",
    "    #browser.refresh()\n",
    "    time.sleep(5)\n",
    "    \n",
    "\n",
    "    like_list_button = browser.find_element_by_xpath('//button[@class=\"sqdOP yWX7d     _8A5w5    \"]') #按讚的癡漢\n",
    "    like_list_button.click() #點擊按讚的癡漢\n",
    "\n",
    "    time.sleep(5)\n",
    "\n",
    "    #大神寫的code，scroll down likers並把所有名單append進入users\n",
    "    likers=[]\n",
    "    height = browser.find_element_by_xpath(\"//html/body/div[4]/div/div[2]/div/div\").value_of_css_property(\"padding-top\")\n",
    "\n",
    "    match = False\n",
    "    while match==False:\n",
    "        lastHeight = height\n",
    "\n",
    "        # step 1\n",
    "        elements = browser.find_elements_by_xpath(\"//*[@id]/div/a\")\n",
    "\n",
    "        # step 2\n",
    "        for element in elements:\n",
    "        #    if element.get_attribute('title') not in likers:\n",
    "        #        likers.append(element.get_attribute('title'))\n",
    "            likers.append(element.get_attribute('title'))\n",
    "        \n",
    "        \n",
    "        # step 3\n",
    "        browser.execute_script(\"return arguments[0].scrollIntoView();\", elements[-1])\n",
    "        #time.sleep(random.uniform(3,4))\n",
    "\n",
    "        # step 4\n",
    "        time.sleep(1)\n",
    "        height = browser.find_element_by_xpath(\"//html/body/div[4]/div/div[2]/div/div\").value_of_css_property(\"padding-top\")\n",
    "        if lastHeight==height:\n",
    "            match = True\n",
    "    likers = list(set(likers))\n",
    "    likers_list.append(likers)\n",
    "    #browser.close()\n",
    "    #time.sleep(random.uniform(10,15))"
   ]
  },
  {
   "cell_type": "code",
   "execution_count": 485,
   "metadata": {},
   "outputs": [
    {
     "data": {
      "text/plain": [
       "3234"
      ]
     },
     "execution_count": 485,
     "metadata": {},
     "output_type": "execute_result"
    }
   ],
   "source": [
    "all_likers = []\n",
    "for i in range(0,len(likers_list)):\n",
    "    all_likers = all_likers + likers_list[i]\n",
    "\n",
    "len(all_likers)"
   ]
  },
  {
   "cell_type": "code",
   "execution_count": 486,
   "metadata": {},
   "outputs": [],
   "source": [
    "import pandas as pd\n",
    "pd.set_option('display.max_rows', 500)\n",
    "data = pd.DataFrame(all_likers, columns=['liker_name'])"
   ]
  },
  {
   "cell_type": "code",
   "execution_count": 487,
   "metadata": {
    "scrolled": true
   },
   "outputs": [
    {
     "name": "stdout",
     "output_type": "stream",
     "text": [
      "Likers of amandawawa\n",
      "Numbers of Posts: 202\n"
     ]
    },
    {
     "data": {
      "text/plain": [
       "demiko791122               52\n",
       "yuchia0205                 51\n",
       "vincenzinolee              51\n",
       "andrea53611                48\n",
       "minmin8196                 47\n",
       "vivalavida14253            44\n",
       "weichuantuz                40\n",
       "po_chu_chen                39\n",
       "khsu42                     39\n",
       "beambean_0703              39\n",
       "daisukeiiiii               38\n",
       "kathy17761014              36\n",
       "eugene____lu               35\n",
       "h.t.goofy                  35\n",
       "baichiao                   34\n",
       "wu94332002                 32\n",
       "hsiangling0319             30\n",
       "haohsuan_hsu               30\n",
       "jordan_chang11             30\n",
       "s400993                    30\n",
       "chaoichin                  29\n",
       "gracelohuiwen              28\n",
       "chuyutinger                28\n",
       "hsuan0622                  28\n",
       "tkowo                      28\n",
       "yachi_hsu                  27\n",
       "deliahuang0306             27\n",
       "zenpinjing                 27\n",
       "joanne296329               26\n",
       "johnsonlin0712             26\n",
       "yy123454321                25\n",
       "minic_li                   25\n",
       "zxc359740                  25\n",
       "baerenwyjzzq               25\n",
       "viviana_liu                25\n",
       "janjanguo_                 24\n",
       "chihwen1223                24\n",
       "ritalife2018               23\n",
       "hsuzchan                   23\n",
       "zqwe4129                   23\n",
       "xpassion1991x              23\n",
       "smile99sw                  23\n",
       "chia_0106                  21\n",
       "hoying118                  21\n",
       "aprilpwwang                21\n",
       "hsinyu_107                 20\n",
       "huichi.yeh                 20\n",
       "beiamiamie                 19\n",
       "casper12333                19\n",
       "joannelin0319              19\n",
       "iamliuliu_niu              19\n",
       "monkeyjenny                19\n",
       "poodle_milu                19\n",
       "hmtchen                    19\n",
       "ms0403157                  19\n",
       "ushin1112                  18\n",
       "yumicheng19                18\n",
       "h1018945                   18\n",
       "paulhwang1994              18\n",
       "meow_crab                  18\n",
       "hs_linn                    18\n",
       "meimei_eb                  17\n",
       "y00131                     17\n",
       "jinyu.chang                16\n",
       "sonja_hsu                  16\n",
       "jacky_hsieh2323            16\n",
       "milklee0419                16\n",
       "audreylin413               16\n",
       "fanting0612                16\n",
       "monachen321                15\n",
       "yenn.eclat                 15\n",
       "leilabigb                  15\n",
       "kuanlutan                  14\n",
       "johnny_419                 14\n",
       "jsonwei                    14\n",
       "iamtony0430                14\n",
       "supertrader                14\n",
       "macrotrader                14\n",
       "yute0329                   14\n",
       "shuyuzh                    14\n",
       "728chichi                  13\n",
       "nady0519                   13\n",
       "keith19930203              13\n",
       "alesechkarud               13\n",
       "yo19820725ona              13\n",
       "yvonnelai1119              13\n",
       "dill23152002               13\n",
       "shannon0816                13\n",
       "kittyliu113                12\n",
       "chibirin_39                12\n",
       "sunqianting                12\n",
       "losetowin72                12\n",
       "rivenkk87                  12\n",
       "chiawen_tsai_              11\n",
       "yutingerh                  11\n",
       "paultzuming                11\n",
       "lqingguo                   11\n",
       "sab0214                    11\n",
       "_mr.a._right_ghiseeing_    11\n",
       "chien__chiang              11\n",
       "tinaliao0830               11\n",
       "_sylsylvia                 11\n",
       "lalalaedwin                11\n",
       "hardy_chang                11\n",
       "kay820831                  11\n",
       "hsiaochuuuuu               10\n",
       "tangichen                  10\n",
       "eva852639                  10\n",
       "wadewangg                  10\n",
       "black_0330                 10\n",
       "david148877                10\n",
       "andrew_ccf                 10\n",
       "laihueichin                10\n",
       "jasmine0119600             10\n",
       "black820521                10\n",
       "pennychenya                 9\n",
       "iris_03159                  9\n",
       "wangchingwang               9\n",
       "inspiration1024             9\n",
       "xiu1020ting                 9\n",
       "chungying.lee               8\n",
       "ronalld.ch                  8\n",
       "pinkfishishi                8\n",
       "nancy020977                 8\n",
       "k83427                      8\n",
       "yuchang0304                 8\n",
       "______xixixi                8\n",
       "linjixiang                  8\n",
       "_0905_cc                    8\n",
       "david_king723               8\n",
       "cheshiiire                  8\n",
       "hsiehi_ching                8\n",
       "smujun79                    8\n",
       "yan_haii                    8\n",
       "yoin0318                    7\n",
       "aliceyang22                 7\n",
       "yi_wen514                   7\n",
       "chloris_chao                7\n",
       "p.teng                      7\n",
       "marspenguin                 7\n",
       "k081624                     7\n",
       "juiweiroger                 7\n",
       "_.sssyun27._                7\n",
       "earthsuperman01             7\n",
       "jhshaw25                    6\n",
       "talltall198                 6\n",
       "yuwue2000                   6\n",
       "eddiechuang93               6\n",
       "mich0517                    6\n",
       "eric_the_truth              6\n",
       "wadashiwalucydesu           6\n",
       "dennis_life_                6\n",
       "mandy10356                  6\n",
       "jacklin0209                 6\n",
       "wenkaichung                 6\n",
       "kennypin                    6\n",
       "bhuang1208                  6\n",
       "zxc27233734                 6\n",
       "allenwongtw                 6\n",
       "chiao730730                 6\n",
       "1991.hc                     6\n",
       "jack41082002                6\n",
       "jasonorza                   6\n",
       "lalahuei                    6\n",
       "amasawakenji                6\n",
       "r82081832322                5\n",
       "chien_lee                   5\n",
       "kao.eric                    5\n",
       "wongkaimanphotalk           5\n",
       "shengru0611                 5\n",
       "eddie21531                  5\n",
       "wesleychuchuchu             5\n",
       "chung.151515                5\n",
       "markchou1223                5\n",
       "chu_una1999                 5\n",
       "darrengineer1119            5\n",
       "dairong0223                 5\n",
       "yitang.peng                 5\n",
       "jiating1116                 5\n",
       "ifuleave1026                5\n",
       "rebecca_chen1207            5\n",
       "rockmusic8                  5\n",
       "boy86115                    5\n",
       "seek_meaningful_success     5\n",
       "akiralee1991                5\n",
       "jinhongke                   5\n",
       "kenting5201314              5\n",
       "b22305436                   4\n",
       "sunnyeve_515                4\n",
       "s_flat_l                    4\n",
       "stage1992                   4\n",
       "hsuwinwin                   4\n",
       "lgm1126                     4\n",
       "dan__cho                    4\n",
       "gp374                       4\n",
       "lesleylinlin                4\n",
       "rootsuperstar               4\n",
       "tsinonisthebest             4\n",
       "noodle_yii                  4\n",
       "kuanyin_chen                4\n",
       "sjw_0911                    4\n",
       "u1990t                      4\n",
       "alliexxi                    4\n",
       "tryit132306                 4\n",
       "olialws                     4\n",
       "ann841002                   4\n",
       "ray03110311                 4\n",
       "bo_nnie_li                  4\n",
       "cccc4141                    4\n",
       "felix_0224                  4\n",
       "sandy147258                 4\n",
       "gn00291010                  4\n",
       "ab41202000                  4\n",
       "suberhau                    4\n",
       "briandicky                  3\n",
       "sam791119                   3\n",
       "ryan79730                   3\n",
       "bn.fang                     3\n",
       "alicia_hmn                  3\n",
       "lil7752                     3\n",
       "evenhuang37                 3\n",
       "ekizeng                     3\n",
       "uccu_kevin                  3\n",
       "peter11295                  3\n",
       "karennlliu                  3\n",
       "cocoi7i7                    3\n",
       "mjames_ltw                  3\n",
       "ihuangmike                  3\n",
       "hanaenjoylife               3\n",
       "jouchun                     3\n",
       "j1930020                    3\n",
       "tinganhsu                   3\n",
       "fu_weiming                  3\n",
       "kellyyang.ysh               3\n",
       "karaja03                    3\n",
       "z.xying_                    3\n",
       "lin_880204                  3\n",
       "yiyen.yang                  3\n",
       "cote.lin                    3\n",
       "lilinzzz                    2\n",
       "gary91060006                2\n",
       "ch_lam                      2\n",
       "0325sunny                   2\n",
       "miama827                    2\n",
       "chenghan.lin.397            2\n",
       "abbiechang0124              2\n",
       "amberbuzzz                  2\n",
       "johnson19900410             2\n",
       "slhoivte                    2\n",
       "wildcowcowchen              2\n",
       "c40319                      2\n",
       "raynetsou                   2\n",
       "aeschylu                    2\n",
       "yf88255                     2\n",
       "chinhua0529                 2\n",
       "yijufeng                    2\n",
       "antonio_zhen                2\n",
       "wei15482                    2\n",
       "davidwang0615               2\n",
       "samutw                      2\n",
       "blair.uom                   2\n",
       "hanna_w7725                 2\n",
       "yuanliang02                 2\n",
       "jerrimchen                  2\n",
       "stein1211                   2\n",
       "lovelyamychi                2\n",
       "reaganrhodes73              2\n",
       "ianchen1967                 2\n",
       "jerrylinmr                  2\n",
       "hulu_tw_shiba               2\n",
       "janiceeesu                  2\n",
       "pingchienlu                 2\n",
       "sandyhuang116               2\n",
       "shmngdng                    2\n",
       "a5817412                    2\n",
       "kiki09_30                   2\n",
       "selfhigh                    2\n",
       "bradguoooo                  2\n",
       "clark0081                   2\n",
       "danielyang0811              2\n",
       "cocolinlinfu                2\n",
       "neokung12                   2\n",
       "changchengchan              2\n",
       "missfox0708                 2\n",
       "kevinlesage                 2\n",
       "comejo0922                  2\n",
       "elus_h                      2\n",
       "lucianlai                   2\n",
       "guann2                      2\n",
       "magnetoooooo                2\n",
       "jerry890716                 2\n",
       "bluefish0310                2\n",
       "superofufu                  1\n",
       "aurore.salon                1\n",
       "aragorn820x                 1\n",
       "ting19xx1207                1\n",
       "cherrie0730                 1\n",
       "cheng_cheng_food            1\n",
       "zhaojusheng                 1\n",
       "linglingteeheehee           1\n",
       "alex_hsu0121                1\n",
       "bear8251                    1\n",
       "misspilotceline             1\n",
       "lostforworld                1\n",
       "__siu.hung__                1\n",
       "danielchuleeds              1\n",
       "ryfkung                     1\n",
       "ksusha_gt                   1\n",
       "skydennis0222               1\n",
       "jying._.c                   1\n",
       "joby.lu                     1\n",
       "c351000                     1\n",
       "amandawaa                   1\n",
       "iamshishi__1019             1\n",
       "hedychuchu                  1\n",
       "sandylo612                  1\n",
       "wgashong                    1\n",
       "rogerlin_nc                 1\n",
       "shihci47                    1\n",
       "o____qllll                  1\n",
       "steven_mo___                1\n",
       "lin____meng                 1\n",
       "mack_the_k                  1\n",
       "kinggarden119               1\n",
       "eaglesid                    1\n",
       "amissong_411                1\n",
       "montinglin                  1\n",
       "vincechiang                 1\n",
       "chieh_an_tsai               1\n",
       "imaboy36                    1\n",
       "irischenchen                1\n",
       "p_a_u_l_z_i_m_m_e_r         1\n",
       "hank_yu_1220                1\n",
       "freelance_mkt               1\n",
       "david0203sm                 1\n",
       "_kevin_c93                  1\n",
       "sinru_yu                    1\n",
       "christinejiwonra            1\n",
       "jeff2l_                     1\n",
       "daisychenn                  1\n",
       "young_jun13                 1\n",
       "chichi_0426                 1\n",
       "lion9642900                 1\n",
       "minlilinlily                1\n",
       "zoo_by_cheric               1\n",
       "we.are.grasland             1\n",
       "travelouis_tw               1\n",
       "winnie8233                  1\n",
       "amberlee37                  1\n",
       "renhao_o                    1\n",
       "leon30602                   1\n",
       "nick_happy1125              1\n",
       "wong929                     1\n",
       "joyce___cheng               1\n",
       "chelsy_0820                 1\n",
       "shuochieh                   1\n",
       "christina_borresen          1\n",
       "99huihui                    1\n",
       "anchibear                   1\n",
       "lovethepain_official        1\n",
       "carrielulin                 1\n",
       "bill19921225                1\n",
       "michaelgoodya               1\n",
       "st94629                     1\n",
       "joannelan                   1\n",
       "eric80208                   1\n",
       "mingjenlin                  1\n",
       "breeze7990                  1\n",
       "hv42002                     1\n",
       "anby_puuur                  1\n",
       "k_jd_243                    1\n",
       "andreas_reichlin            1\n",
       "giraffe851021               1\n",
       "shu07oc16                   1\n",
       "shiuan0307                  1\n",
       "civetni021                  1\n",
       "ir_autumn                   1\n",
       "zhong_1114                  1\n",
       "runtimo                     1\n",
       "asunwawa                    1\n",
       "liliannn19                  1\n",
       "a0823_                      1\n",
       "hypertheline                1\n",
       "ikuzoldyck                  1\n",
       "poodle_lovers.co            1\n",
       "a8422jsesjses               1\n",
       "Name: liker_name, dtype: int64"
      ]
     },
     "execution_count": 487,
     "metadata": {},
     "output_type": "execute_result"
    }
   ],
   "source": [
    "print('Likers of amandawawa')\n",
    "print('Numbers of Posts: '+str(len(post_hrefs)))\n",
    "data['liker_name'].value_counts()"
   ]
  },
  {
   "cell_type": "code",
   "execution_count": 301,
   "metadata": {},
   "outputs": [
    {
     "data": {
      "text/html": [
       "<div>\n",
       "<style scoped>\n",
       "    .dataframe tbody tr th:only-of-type {\n",
       "        vertical-align: middle;\n",
       "    }\n",
       "\n",
       "    .dataframe tbody tr th {\n",
       "        vertical-align: top;\n",
       "    }\n",
       "\n",
       "    .dataframe thead th {\n",
       "        text-align: right;\n",
       "    }\n",
       "</style>\n",
       "<table border=\"1\" class=\"dataframe\">\n",
       "  <thead>\n",
       "    <tr style=\"text-align: right;\">\n",
       "      <th></th>\n",
       "      <th>liker_name</th>\n",
       "    </tr>\n",
       "  </thead>\n",
       "  <tbody>\n",
       "  </tbody>\n",
       "</table>\n",
       "</div>"
      ],
      "text/plain": [
       "Empty DataFrame\n",
       "Columns: [liker_name]\n",
       "Index: []"
      ]
     },
     "execution_count": 301,
     "metadata": {},
     "output_type": "execute_result"
    }
   ],
   "source": [
    "data[data.liker_name=='supercollege']"
   ]
  },
  {
   "cell_type": "code",
   "execution_count": null,
   "metadata": {},
   "outputs": [],
   "source": []
  }
 ],
 "metadata": {
  "kernelspec": {
   "display_name": "Python 3",
   "language": "python",
   "name": "python3"
  },
  "language_info": {
   "codemirror_mode": {
    "name": "ipython",
    "version": 3
   },
   "file_extension": ".py",
   "mimetype": "text/x-python",
   "name": "python",
   "nbconvert_exporter": "python",
   "pygments_lexer": "ipython3",
   "version": "3.7.4"
  }
 },
 "nbformat": 4,
 "nbformat_minor": 2
}
